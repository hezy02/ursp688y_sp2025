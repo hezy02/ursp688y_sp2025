{
 "cells": [
  {
   "cell_type": "markdown",
   "id": "13b62af4-9c03-46d7-805c-cebadd28185e",
   "metadata": {
    "editable": true,
    "slideshow": {
     "slide_type": ""
    },
    "tags": []
   },
   "source": [
    "Urban Data Science & Smart Cities <br>\n",
    "URSP688Y Spring 2025<br>\n",
    "Instructor: Chester Harvey <br>\n",
    "Urban Studies & Planning <br>\n",
    "National Center for Smart Growth <br>\n",
    "University of Maryland"
   ]
  },
  {
   "attachments": {},
   "cell_type": "markdown",
   "id": "b7d7937e-5289-44bb-ac8b-1e0b03a74e0b",
   "metadata": {},
   "source": [
    "# Demo 5 - Accessing and Wrangling Data from the Web\n",
    "\n",
    "- GitHub Branches\n",
    "- Loading Data from the Web with APIs\n",
    "- Debugging"
   ]
  },
  {
   "cell_type": "markdown",
   "id": "f949fdcc-695e-47b7-a90b-9559ece7e536",
   "metadata": {
    "jp-MarkdownHeadingCollapsed": true
   },
   "source": [
    "## GitHub Branches\n",
    "\n",
    "Branches allow you to organize work in a contained space. For our purposes, their most important feature is allowing you to make a pull request with only the specific changes you want to submit and *not* all the other things you may be experimenting with in your repository.\n",
    "\n",
    "[Here's a more extended overview](https://docs.github.com/en/pull-requests/collaborating-with-pull-requests/proposing-changes-to-your-work-with-pull-requests/about-branches) of what branches are and how they work.\n",
    "\n",
    "### Key Concepts\n",
    "- Every repository or fork has a default branch ('main').\n",
    "- You can make as many additional branches as you'd like.\n",
    "- Commits are always made to a branch (even if it's 'main').\n",
    "- When making a new branch in order to make a pull request to an upstream repository, I recommend using the 'main' branch of that upstream repository as the source for your new branch.\n",
    "\n",
    "### Tips for Using Branches for Exercises\n",
    "- Make a new branch for each exercise\n",
    "- Make a copy of the exercise notebook, then rename the copy with your name as an underscored suffix (e.g., `exercise02_chester.ipynb`).\n",
    "- Don't make changes unrelated to your exercise on the branch you set up for that exercise.\n",
    "- If you accidentally make other changes, the easiest way to clean things up is be to make a new branch, then copy only the files you want to submit into that branch. You can temporarily copy them to the desktop as you move them between branches.\n",
    "- Sync your branch before making a pull request.\n",
    "\n",
    "### Detailed Steps for Doing Your Exercise on a Branch\n",
    "1. Go to your fork of the course respository on the GitHub website (e.g., https://github.com/[your username]/ursp688y_sp2025).\n",
    "2. In the upper-left, click where it says \"1 Branch\" or \"[n] Branches\" to open branches page.\n",
    "3. Click the green \"New branch\" button in the upper left.\n",
    "4. Write a name for your new branch (e.g., \"exercise-2\").\n",
    "5. Choose \"ncsg/ursp688y_sp2025\" as the source and \"main\" as the source branch. This will ensure your branch starts out being in sync with the course respository, reducing the likelihood of a conflict when you make a pull request.\n",
    "6. Open GitHub Desktop and navigate to the clone of your fork.\n",
    "7. Fetch from the origin, which will sync your new branch.\n",
    "8. Select your new branch from the \"Current Branch\" dropdown at the center-top of the GitHub Desktop window\n",
    "9. If you have uncommitted changes on your current branch (e.g., you may have been working on your exercise 2 notebook but hadn't yet committed the changes) a dialog will pop up asking if you want to keep the changes on 'main' or move them to your new branch. I recommend only moving changes if you're confident they're related to the purpose of your new branch.\n",
    "10. Once you're on the new branch, work on your code (e.g., open Jupyter Lab and write code, copy and move files, etc.). Make commits to your new branch. You can keep and come back to this branch for however long you're working on the exercise.\n",
    "    - When you have a branch selected, the Windows Explorer, Mac Finder, or file navigator in Jupyter Lab automatically show the state of that branch within the cloned directory. You are working with the *version* of the repository/fork stored in the selected branch.\n",
    "    - ***Note: Don't delete the template exercise notebook. Instead, make a copy of it, then rename the copy with your name as an underscored suffix (e.g., `exercise02_chester.ipynb`)***\n",
    "    - If you previously committed changes related to the exercise in the 'main' branch, I recommend going back to 'main', copying any new/changed files to your Desktop, then going back to your new branch and copying the files into it. Then commit them on the new branch.\n",
    "11. When you're done coding and ready to make a pull request from your branch, push and fetch the origin a final time to make sure everything is in sync between your computer and the cloud.\n",
    "12. Go to your fork on GitHub.com.\n",
    "13. Go to the branches page and click on your branch.\n",
    "14. Click \"Sync fork\" to make sure it's up-to-date with upstream course repository.\n",
    "15. Click \"Contribute\" and \"Open pull request\".\n",
    "16. Scroll down and make sure that only the files you intended to include in the pull request are included.\n",
    "17. Add a title and description. Click \"Create pull request\"."
   ]
  },
  {
   "cell_type": "markdown",
   "id": "ec02c415-3b9f-4914-926b-90742fa0cb27",
   "metadata": {},
   "source": [
    "## APIs (Application Programming Interfaces)\n",
    "\n",
    "APIs are an interface for accessing information. At the most general level, nearly all programs that can be accessed with code have an API.\n",
    "\n",
    "Python functions, for example, are programs with APIs. You access them by calling the function name and defining arguments.\n",
    "\n",
    "In practice, when people talk about getting data from APIs they are usually talking about web APIs\n",
    "- These are usually designed with a software architecture called [REST](https://en.wikipedia.org/wiki/REST).\n",
    "- Using a REST API involves making a request to a URL and receiving a response.\n",
    "- Often, that response is in a format called [JSON](https://en.wikipedia.org/wiki/JSON), which is structured like nested dictionaries and lists.\n",
    "\n",
    "Today, we're going to practice retrieving data about cities from web APIs, then wrangling the data they return into a tabular format we can analyze.\n",
    "\n",
    "Making a request to an API is just another way to get data, similar to downloading it from an open data portal. Why would you bother querying an API instead of just downloading a table?\n",
    "- APIs allow programmatic access to data that can be easily scaled, replicated, and documented\n",
    "- APIs can allow customization of which data you are accessing\n",
    "- JSON allows for much more complex data structures than downloadable tables\n",
    "- APIs can be an easy way to access real-time data\n",
    "- Can we think of other reasons?"
   ]
  },
  {
   "cell_type": "markdown",
   "id": "5c50a0d3-682e-40d6-950e-e266e6dce178",
   "metadata": {},
   "source": [
    "### Capital Bikeshare Data — Free, simple, real-time\n",
    "\n",
    "Some APIs with data about cities are free and simple. The Capital Bikeshare (CABI) system, for example, has an API that reports on the status of bikes in its system in real-time. It's available free as part of CABI's operating agreement with the City of Washington, D.C.\n",
    "\n",
    "The District Department of Transportation (DDOT) lists APIs for all of the micromobility systems operating in the city on [this webpage](https://ddot.dc.gov/page/dockless-api).\n",
    "\n",
    "Let's request some data from the CABI systems and see what it looks like.\n",
    "\n",
    "- What could we do with these data?\n",
    "- What are its limitations?"
   ]
  },
  {
   "cell_type": "code",
   "execution_count": 1,
   "id": "3077b09e-1556-4fd8-9cee-856b57d8c0a4",
   "metadata": {},
   "outputs": [],
   "source": [
    "# Import package dependencies\n",
    "import pandas as pd\n",
    "import requests # for making RESTful API requests\n",
    "import json # for converting strings in JSON format to python dictionaries and lists\n",
    "import yaml # for converting yaml-structured text into python dictionaries and lists\n",
    "import os # for basic operating system functions, like compiling paths"
   ]
  },
  {
   "cell_type": "code",
   "execution_count": 2,
   "id": "8ee710f4-0e49-4a18-94ed-e577bf8aaf58",
   "metadata": {},
   "outputs": [],
   "source": [
    "# Making a \"GET\" request\n",
    "response = requests.get('https://gbfs.lyft.com/gbfs/1.1/dca-cabi/en/free_bike_status.json')\n",
    "\n",
    "# Get JSON content\n",
    "data = response.json()"
   ]
  },
  {
   "cell_type": "code",
   "execution_count": 3,
   "id": "ad01f3cd-598d-4d1e-93ac-553cee95a305",
   "metadata": {},
   "outputs": [],
   "source": [
    "# Preview the data\n",
    "# data"
   ]
  },
  {
   "cell_type": "code",
   "execution_count": 4,
   "id": "f8ff22cb-d27f-4014-aa23-a10ed18c854c",
   "metadata": {},
   "outputs": [
    {
     "data": {
      "text/plain": [
       "dict_keys(['data', 'last_updated', 'ttl', 'version'])"
      ]
     },
     "execution_count": 4,
     "metadata": {},
     "output_type": "execute_result"
    }
   ],
   "source": [
    "# Inspect the keys\n",
    "data.keys()"
   ]
  },
  {
   "cell_type": "code",
   "execution_count": 5,
   "id": "168108be-44cf-4096-b9fa-ad3e9d1601a0",
   "metadata": {},
   "outputs": [
    {
     "data": {
      "text/plain": [
       "{'is_reserved': 0,\n",
       " 'is_disabled': 0,\n",
       " 'fusion_lat': 0.0,\n",
       " 'lon': -77.076197386,\n",
       " 'fusion_lon': 0.0,\n",
       " 'bike_id': '35caeda3733992250766c851fdab0d67',\n",
       " 'name': '483-2424',\n",
       " 'lat': 38.987995148,\n",
       " 'type': 'electric_bike',\n",
       " 'rental_uris': {'android': 'https://dc.lft.to/lastmile_qr_scan',\n",
       "  'ios': 'https://dc.lft.to/lastmile_qr_scan'}}"
      ]
     },
     "execution_count": 5,
     "metadata": {},
     "output_type": "execute_result"
    }
   ],
   "source": [
    "data['data']['bikes'][0]"
   ]
  },
  {
   "cell_type": "code",
   "execution_count": 6,
   "id": "5e66bffa-2097-4eaa-84ac-20ffdf8fc902",
   "metadata": {},
   "outputs": [
    {
     "data": {
      "text/html": [
       "<div>\n",
       "<style scoped>\n",
       "    .dataframe tbody tr th:only-of-type {\n",
       "        vertical-align: middle;\n",
       "    }\n",
       "\n",
       "    .dataframe tbody tr th {\n",
       "        vertical-align: top;\n",
       "    }\n",
       "\n",
       "    .dataframe thead th {\n",
       "        text-align: right;\n",
       "    }\n",
       "</style>\n",
       "<table border=\"1\" class=\"dataframe\">\n",
       "  <thead>\n",
       "    <tr style=\"text-align: right;\">\n",
       "      <th></th>\n",
       "      <th>is_reserved</th>\n",
       "      <th>is_disabled</th>\n",
       "      <th>fusion_lat</th>\n",
       "      <th>lon</th>\n",
       "      <th>fusion_lon</th>\n",
       "      <th>bike_id</th>\n",
       "      <th>name</th>\n",
       "      <th>lat</th>\n",
       "      <th>type</th>\n",
       "      <th>rental_uris</th>\n",
       "    </tr>\n",
       "  </thead>\n",
       "  <tbody>\n",
       "    <tr>\n",
       "      <th>0</th>\n",
       "      <td>0</td>\n",
       "      <td>0</td>\n",
       "      <td>0.0</td>\n",
       "      <td>-77.076197</td>\n",
       "      <td>0.0</td>\n",
       "      <td>35caeda3733992250766c851fdab0d67</td>\n",
       "      <td>483-2424</td>\n",
       "      <td>38.987995</td>\n",
       "      <td>electric_bike</td>\n",
       "      <td>{'android': 'https://dc.lft.to/lastmile_qr_sca...</td>\n",
       "    </tr>\n",
       "    <tr>\n",
       "      <th>1</th>\n",
       "      <td>0</td>\n",
       "      <td>0</td>\n",
       "      <td>0.0</td>\n",
       "      <td>-77.003288</td>\n",
       "      <td>0.0</td>\n",
       "      <td>91dbfcab197aa2573be04d2f081162b2</td>\n",
       "      <td>784-9151</td>\n",
       "      <td>38.890889</td>\n",
       "      <td>electric_bike</td>\n",
       "      <td>{'android': 'https://dc.lft.to/lastmile_qr_sca...</td>\n",
       "    </tr>\n",
       "    <tr>\n",
       "      <th>2</th>\n",
       "      <td>0</td>\n",
       "      <td>0</td>\n",
       "      <td>0.0</td>\n",
       "      <td>-77.016247</td>\n",
       "      <td>0.0</td>\n",
       "      <td>7871df699ede9efc68a2f2e410bd6013</td>\n",
       "      <td>483-3620</td>\n",
       "      <td>38.903177</td>\n",
       "      <td>electric_bike</td>\n",
       "      <td>{'android': 'https://dc.lft.to/lastmile_qr_sca...</td>\n",
       "    </tr>\n",
       "    <tr>\n",
       "      <th>3</th>\n",
       "      <td>0</td>\n",
       "      <td>0</td>\n",
       "      <td>0.0</td>\n",
       "      <td>-77.087029</td>\n",
       "      <td>0.0</td>\n",
       "      <td>91d887f54520594f5195168949f907bf</td>\n",
       "      <td>339-0820</td>\n",
       "      <td>38.900869</td>\n",
       "      <td>electric_bike</td>\n",
       "      <td>{'android': 'https://dc.lft.to/lastmile_qr_sca...</td>\n",
       "    </tr>\n",
       "    <tr>\n",
       "      <th>4</th>\n",
       "      <td>0</td>\n",
       "      <td>0</td>\n",
       "      <td>0.0</td>\n",
       "      <td>-77.072072</td>\n",
       "      <td>0.0</td>\n",
       "      <td>1b573760c0d109b57ba4b24a3db54309</td>\n",
       "      <td>872-1383</td>\n",
       "      <td>38.868260</td>\n",
       "      <td>electric_bike</td>\n",
       "      <td>{'android': 'https://dc.lft.to/lastmile_qr_sca...</td>\n",
       "    </tr>\n",
       "  </tbody>\n",
       "</table>\n",
       "</div>"
      ],
      "text/plain": [
       "   is_reserved  is_disabled  fusion_lat        lon  fusion_lon  \\\n",
       "0            0            0         0.0 -77.076197         0.0   \n",
       "1            0            0         0.0 -77.003288         0.0   \n",
       "2            0            0         0.0 -77.016247         0.0   \n",
       "3            0            0         0.0 -77.087029         0.0   \n",
       "4            0            0         0.0 -77.072072         0.0   \n",
       "\n",
       "                            bike_id      name        lat           type  \\\n",
       "0  35caeda3733992250766c851fdab0d67  483-2424  38.987995  electric_bike   \n",
       "1  91dbfcab197aa2573be04d2f081162b2  784-9151  38.890889  electric_bike   \n",
       "2  7871df699ede9efc68a2f2e410bd6013  483-3620  38.903177  electric_bike   \n",
       "3  91d887f54520594f5195168949f907bf  339-0820  38.900869  electric_bike   \n",
       "4  1b573760c0d109b57ba4b24a3db54309  872-1383  38.868260  electric_bike   \n",
       "\n",
       "                                         rental_uris  \n",
       "0  {'android': 'https://dc.lft.to/lastmile_qr_sca...  \n",
       "1  {'android': 'https://dc.lft.to/lastmile_qr_sca...  \n",
       "2  {'android': 'https://dc.lft.to/lastmile_qr_sca...  \n",
       "3  {'android': 'https://dc.lft.to/lastmile_qr_sca...  \n",
       "4  {'android': 'https://dc.lft.to/lastmile_qr_sca...  "
      ]
     },
     "execution_count": 6,
     "metadata": {},
     "output_type": "execute_result"
    }
   ],
   "source": [
    "# Make a dataframe out of data for available bikes\n",
    "df = pd.DataFrame(data['data']['bikes'])\n",
    "\n",
    "df.head()"
   ]
  },
  {
   "cell_type": "code",
   "execution_count": 11,
   "id": "bc0f8ead-f1ae-4e8c-b57b-7e7fefe7ef88",
   "metadata": {},
   "outputs": [],
   "source": [
    "# Save the json data for later\n",
    "\n",
    "def save_json(data, file_name, timestamp=False):\n",
    "    \"\"\"Save data as json file\n",
    "    data: json-compatable data structure (nested dicts and lists)\n",
    "    file_name: string for file name; DO NOT include file extension (e.g., \".json\")\n",
    "    \"\"\"\n",
    "    if timestamp:\n",
    "        file_name = f'{file_name}_{timestamp}.json'\n",
    "    else:\n",
    "        file_name = f'{file_name}.json'\n",
    "    with open(file_name, 'w') as f:\n",
    "        json.dump(data, f, indent=4)\n",
    "\n",
    "save_json(data, 'cabi_data')"
   ]
  },
  {
   "cell_type": "code",
   "execution_count": 12,
   "id": "3f792f12-351a-476a-9383-dbb517503ba9",
   "metadata": {},
   "outputs": [],
   "source": [
    "# Make an automated workflow to retrieve data and save it, all at once\n",
    "\n",
    "def get_and_save_cabi_data():\n",
    "    \"\"\"Get current data from the CABI API and save as a timestamped JSON\n",
    "    \"\"\"\n",
    "    # Making a \"GET\" request\n",
    "    response = requests.get('https://gbfs.lyft.com/gbfs/1.1/dca-cabi/en/free_bike_status.json')\n",
    "    # Get JSON content\n",
    "    data = response.json()\n",
    "    # Get timestamp from data\n",
    "    timestamp = data['last_updated']\n",
    "    # Save to file\n",
    "    save_json(data, 'cabi_data', timestamp) "
   ]
  },
  {
   "cell_type": "code",
   "execution_count": 13,
   "id": "6264b771-cdf2-4779-8322-89830b8def60",
   "metadata": {},
   "outputs": [],
   "source": [
    "# Run the automated workflow\n",
    "# Could we do this on a schedule to collect \"snapshots\" of the state of the CABI system?\n",
    "get_and_save_cabi_data()"
   ]
  },
  {
   "cell_type": "markdown",
   "id": "13534208-f2df-472d-a1ed-16fd46b89b83",
   "metadata": {},
   "source": [
    "### Rentcast — Paid, more complex, updated less frequently\n",
    "\n",
    "Free APIs like for CABI are becoming less common. (Does this sound familiar in light of today's reading about smart cities as emerging markets?) Many other APIs require that you pay for data, either through a subscription or for request you make. Some have free tiers, but they're usually quite limited.\n",
    "\n",
    "Several years ago, Zillow provided data about real estate markets through a free API available to the public. You now have to go through a complicated application process to get access to their API, and your use case needs to be aligned with their business model.\n",
    "\n",
    "An alternative source of real estate data is a company called [Rentcast](https://www.rentcast.io/). They allow anyone to set up an account and purchase data through an API, and it [gets expensive fast](https://www.rentcast.io/api#api-pricing). You get 50 requests free for \"development,\" but after that you pay \\\\$0.20 per request or \\\\$74 per month for a subscription to make up to 1,000 requests.\n",
    "\n",
    "They keep track of who is making requests with an 'API key', which is a long string of characters you include in your request as a 'header'. Because API keys are attached to billing information (i.e., your credit card), they're very sensitive. You ***NEVER*** want to commit your API key to GitHub or share it anywhere else publicly.\n",
    "\n",
    "It's best practice to store your API key in a separate file—I like to use a format called YAML—that you prevent from being committed by adding it to your respository's `.gitignore` file. This is a list of files that you explicitly tell git not to keep track of.\n",
    "\n",
    "When you want to use your API key, you load the configs into memory in the Python kernel you're currently working in. When you close or restart the kernel, the computer forgets it."
   ]
  },
  {
   "cell_type": "code",
   "execution_count": 14,
   "id": "1935aacd-2a74-4265-a044-5cf2736c56a3",
   "metadata": {},
   "outputs": [],
   "source": [
    "# Load personal data from a configs file (API key, local data path)\n",
    "with open('configs.yaml', 'r') as file:\n",
    "    CONFIGS = yaml.safe_load(file)"
   ]
  },
  {
   "cell_type": "code",
   "execution_count": 15,
   "id": "f5effe94-f582-4b37-83f4-ddb2f0322d05",
   "metadata": {},
   "outputs": [],
   "source": [
    "# Load eviction data we used last week\n",
    "df = pd.read_csv('District_Court_of_Maryland_Eviction_Case_Data_MG_PG.csv')"
   ]
  },
  {
   "cell_type": "code",
   "execution_count": 16,
   "id": "c7f22c26-edab-4752-8d85-892a6a19b7bf",
   "metadata": {},
   "outputs": [
    {
     "data": {
      "text/html": [
       "<div>\n",
       "<style scoped>\n",
       "    .dataframe tbody tr th:only-of-type {\n",
       "        vertical-align: middle;\n",
       "    }\n",
       "\n",
       "    .dataframe tbody tr th {\n",
       "        vertical-align: top;\n",
       "    }\n",
       "\n",
       "    .dataframe thead th {\n",
       "        text-align: right;\n",
       "    }\n",
       "</style>\n",
       "<table border=\"1\" class=\"dataframe\">\n",
       "  <thead>\n",
       "    <tr style=\"text-align: right;\">\n",
       "      <th></th>\n",
       "      <th>Unnamed: 0</th>\n",
       "      <th>Event Date</th>\n",
       "      <th>Event Type</th>\n",
       "      <th>Event Comment</th>\n",
       "      <th>County</th>\n",
       "      <th>Location</th>\n",
       "      <th>Tenant City</th>\n",
       "      <th>Tenant State</th>\n",
       "      <th>Tenant ZIP Code</th>\n",
       "      <th>Case Type</th>\n",
       "      <th>Case Number</th>\n",
       "      <th>Evicted Date</th>\n",
       "      <th>Event Year</th>\n",
       "      <th>Eviction Year</th>\n",
       "    </tr>\n",
       "  </thead>\n",
       "  <tbody>\n",
       "    <tr>\n",
       "      <th>0</th>\n",
       "      <td>0</td>\n",
       "      <td>01/03/2023</td>\n",
       "      <td>Warrant of Restitution - Return of Service - E...</td>\n",
       "      <td>NaN</td>\n",
       "      <td>Montgomery</td>\n",
       "      <td>Rockville</td>\n",
       "      <td>Silver Spring</td>\n",
       "      <td>MD</td>\n",
       "      <td>20910.0</td>\n",
       "      <td>Failure to Pay Rent</td>\n",
       "      <td>D-061-LT-22-004107</td>\n",
       "      <td>12/08/2022</td>\n",
       "      <td>2023.0</td>\n",
       "      <td>2022.0</td>\n",
       "    </tr>\n",
       "  </tbody>\n",
       "</table>\n",
       "</div>"
      ],
      "text/plain": [
       "   Unnamed: 0  Event Date                                         Event Type  \\\n",
       "0           0  01/03/2023  Warrant of Restitution - Return of Service - E...   \n",
       "\n",
       "  Event Comment      County   Location    Tenant City Tenant State  \\\n",
       "0           NaN  Montgomery  Rockville  Silver Spring           MD   \n",
       "\n",
       "   Tenant ZIP Code            Case Type         Case Number Evicted Date  \\\n",
       "0          20910.0  Failure to Pay Rent  D-061-LT-22-004107   12/08/2022   \n",
       "\n",
       "   Event Year  Eviction Year  \n",
       "0      2023.0         2022.0  "
      ]
     },
     "execution_count": 16,
     "metadata": {},
     "output_type": "execute_result"
    }
   ],
   "source": [
    "# Preview columns\n",
    "df.head(1)"
   ]
  },
  {
   "cell_type": "code",
   "execution_count": 19,
   "id": "12038036-bf94-483c-afc2-ffcef37e983a",
   "metadata": {},
   "outputs": [],
   "source": [
    "# Get rentcast market data for the 10 zipcodes that are most represented in the eviction case data\n",
    "zipcodes = df['Tenant ZIP Code'].value_counts().head(1).index.astype('Int64')\n",
    "\n",
    "for zipcode in zipcodes:\n",
    "    # Make GET request to rentcast API\n",
    "    url = f'https://api.rentcast.io/v1/markets?zipCode={zipcode}&dataType=All&historyRange=6'\n",
    "    headers = {\n",
    "        'X-Api-Key': CONFIGS['rentcast_api_key'],\n",
    "        'Accept': 'application/json', \n",
    "    }\n",
    "    response = requests.get(url, headers=headers)\n",
    "    data = response.json()\n",
    "    # Save to json\n",
    "    file_path = f'rentcast_{zipcode}.json'\n",
    "    with open(file_path, 'w') as file:\n",
    "        json.dump(data, file, indent=4)"
   ]
  },
  {
   "cell_type": "code",
   "execution_count": 23,
   "id": "780de3d4-328f-44c7-8aa8-df59febf9f64",
   "metadata": {},
   "outputs": [
    {
     "data": {
      "text/plain": [
       "dict_keys(['id', 'zipCode', 'saleData', 'rentalData'])"
      ]
     },
     "execution_count": 23,
     "metadata": {},
     "output_type": "execute_result"
    }
   ],
   "source": [
    "# Preview the data\n",
    "data.keys()"
   ]
  },
  {
   "cell_type": "code",
   "execution_count": 22,
   "id": "b8095136-c43e-4069-8dc9-2563031f5f0f",
   "metadata": {},
   "outputs": [
    {
     "data": {
      "text/plain": [
       "dict_keys(['lastUpdatedDate', 'averagePrice', 'medianPrice', 'minPrice', 'maxPrice', 'averagePricePerSquareFoot', 'medianPricePerSquareFoot', 'minPricePerSquareFoot', 'maxPricePerSquareFoot', 'averageSquareFootage', 'medianSquareFootage', 'minSquareFootage', 'maxSquareFootage', 'averageDaysOnMarket', 'medianDaysOnMarket', 'minDaysOnMarket', 'maxDaysOnMarket', 'newListings', 'totalListings', 'dataByPropertyType', 'dataByBedrooms', 'history'])"
      ]
     },
     "execution_count": 22,
     "metadata": {},
     "output_type": "execute_result"
    }
   ],
   "source": [
    "data['saleData'].keys()"
   ]
  },
  {
   "cell_type": "code",
   "execution_count": 26,
   "id": "7bede1d5-94d1-486e-9533-9fcc76c02420",
   "metadata": {},
   "outputs": [
    {
     "data": {
      "text/plain": [
       "{'propertyType': 'Condo',\n",
       " 'averagePrice': 186115,\n",
       " 'medianPrice': 159995,\n",
       " 'minPrice': 60000,\n",
       " 'maxPrice': 395000,\n",
       " 'averagePricePerSquareFoot': 156.86,\n",
       " 'medianPricePerSquareFoot': 159.43,\n",
       " 'minPricePerSquareFoot': 58.54,\n",
       " 'maxPricePerSquareFoot': 235.56,\n",
       " 'averageSquareFootage': 1148,\n",
       " 'medianSquareFootage': 992,\n",
       " 'minSquareFootage': 743,\n",
       " 'maxSquareFootage': 2126,\n",
       " 'averageDaysOnMarket': 59.58,\n",
       " 'medianDaysOnMarket': 56,\n",
       " 'minDaysOnMarket': 4,\n",
       " 'maxDaysOnMarket': 167,\n",
       " 'newListings': 4,\n",
       " 'totalListings': 19}"
      ]
     },
     "execution_count": 26,
     "metadata": {},
     "output_type": "execute_result"
    }
   ],
   "source": [
    "data['saleData']['dataByPropertyType'][0]"
   ]
  },
  {
   "cell_type": "markdown",
   "id": "9b689afe-4aa9-4d8d-9d71-e1577744367c",
   "metadata": {},
   "source": [
    "---\n",
    "We made it this far in class on Week 5\n",
    "\n",
    "---"
   ]
  },
  {
   "cell_type": "markdown",
   "id": "89acaf1a-a772-4f22-bdd7-06e765bd1bb5",
   "metadata": {},
   "source": [
    "## Debugging\n",
    "\n",
    "Errors are frustrating and inevitable. Even professional programmers probably spend most of their time debugging.\n",
    "\n",
    "Luckily, there are good tools and techniques for making debugging a little easier.\n",
    "\n",
    "An \"interactive debugger\" helps diagnose problems by stepping through the code one line at a time.\n",
    "\n",
    "The debugger provides tools for setting \"breakpoints\" where the code will stop running temporarily, a table that shows the values of variables at that time, and buttons to start, stop, and step through the code.\n",
    "\n",
    "https://jupyterlab.readthedocs.io/en/stable/user/debugger.html"
   ]
  },
  {
   "cell_type": "code",
   "execution_count": null,
   "id": "a8abf17d-39e7-4da1-8d0a-f55121ca8a57",
   "metadata": {},
   "outputs": [],
   "source": [
    "def check_adult(age, cutoff=18):\n",
    "    if age < cutoff:\n",
    "        adult = False\n",
    "    else:\n",
    "        adult = True\n",
    "    return adult\n",
    "\n",
    "check_adult(20)"
   ]
  },
  {
   "cell_type": "markdown",
   "id": "1c418985-eb94-45c3-8790-f992b7f9621f",
   "metadata": {},
   "source": [
    "## Style guidelines for Python\n",
    "- At the very least, do things consistently\n",
    "- One statement per line\n",
    "- Try to limit line length to 72 characters\n",
    "- Use four spaces to indent\n",
    "- Put spaces around operators (e.g., `1 + 1` or `day = 'Monday'`) (except in keyword function arguments)\n",
    "- Use blank lines intentionally and consistently\n",
    "- Use meaningful names\n",
    "- Name variables and functions with `lowercase_underscores`\n",
    "- Constants are often named in `ALL_CAPS_WITH_UNDERSCORES` (e.g., `C = 2.99792458e+8`)\n",
    "- Name custom classes with `CapWords`\n",
    "- In general, avoid spaces in folder and filenames used for programming\n",
    "\n",
    "See [Code Readability](https://github.com/ncsg/ursp688y_sp2024/blob/main/README.md#code-readability) on the syllabus. [CS61A](https://cs61a.org/articles/composition/) has an excellent composition guide. [PEP 8](https://peps.python.org/pep-0008/) is a standard Python style guide. [Google](https://google.github.io/styleguide/pyguide.html) publishes their internal Python style guide."
   ]
  }
 ],
 "metadata": {
  "kernelspec": {
   "display_name": "Python 3 (ipykernel)",
   "language": "python",
   "name": "python3"
  },
  "language_info": {
   "codemirror_mode": {
    "name": "ipython",
    "version": 3
   },
   "file_extension": ".py",
   "mimetype": "text/x-python",
   "name": "python",
   "nbconvert_exporter": "python",
   "pygments_lexer": "ipython3",
   "version": "3.13.1"
  }
 },
 "nbformat": 4,
 "nbformat_minor": 5
}
