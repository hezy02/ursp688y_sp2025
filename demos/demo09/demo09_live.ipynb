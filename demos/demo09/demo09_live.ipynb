{
 "cells": [
  {
   "cell_type": "markdown",
   "id": "13b62af4-9c03-46d7-805c-cebadd28185e",
   "metadata": {
    "editable": true,
    "id": "13b62af4-9c03-46d7-805c-cebadd28185e",
    "tags": []
   },
   "source": [
    "Urban Data Science & Smart Cities <br>\n",
    "URSP688Y Spring 2025<br>\n",
    "Instructor: Chester Harvey <br>\n",
    "Urban Studies & Planning <br>\n",
    "National Center for Smart Growth <br>\n",
    "University of Maryland"
   ]
  },
  {
   "attachments": {},
   "cell_type": "markdown",
   "id": "b7d7937e-5289-44bb-ac8b-1e0b03a74e0b",
   "metadata": {
    "id": "b7d7937e-5289-44bb-ac8b-1e0b03a74e0b"
   },
   "source": [
    "# Demo 8 - Network Analysis\n",
    "\n",
    "Today, I'm introducing network analysis with a Python package called [OSMnx](https://osmnx.readthedocs.io/en/stable/) that both downloads and analyzes street networks from OpenStreetMap (OSM). This package was written by Geoff Boeing, now at USC, while he was in grad school, a demonstration of how grad students with an interest in coding can author open-source tools with influence that stretches far beyond their own work.\n",
    "\n",
    "Beneath the hood, OSMnx relies on a network analysis package called [NetworkX](https://networkx.org/); it's one of the dominant Python tools for storing and analyzing networks, or as mathematicians tend to call them, \"graphs.\"\n",
    "\n",
    "A network or graph, I'll use these terms interchangeably, is made up of \"nodes\" or \"vertices\"—the objects that are related to one another—and \"edges\" or \"links\"—connections that define relationships between nodes. In a street network, you can think of the nodes as intersections and the edges as street segments. You could also, however, use a graph to represent more abstract concepts, such as communities. Social network models, for example, use nodes to represent people and edges to represent relationships between them. You could imagine adding attributes to those edges to represent the strength of different relationship (e.g., strong or weak ties), just as length, speed limit, or lane counts along edges in a street network are indicators of connection between two intersections.\n",
    "\n",
    "The following graph has 6 nodes and edges making direct connections between certain pairs of nodes but not others.\n",
    "\n",
    "<img alt=\"basic graph\" width=300 src=\"https://upload.wikimedia.org/wikipedia/commons/thumb/5/5b/6n-graf.svg/1920px-6n-graf.svg.png\">\n",
    "\n",
    "We're going to practice analyzing a street network today in terms of shortest paths, a common type of analysis in transportation planning. Another common way of analyzing graphs is based on \"degree,\" the number of nodes connected to a given node. A graph where all nodes are connected to each other would have high \"degree centrality,\" while a graph where nodes are not very well-connected would have low centrality.\n",
    "\n",
    "Let's install OSMnx, which will automatically install NetworkX as a dependency.\n",
    "\n",
    "We'll first build a basic graph in NetworkX to demonstrate how it works. Then we'll use OSMnx to download an OSM street network and calculate shortest paths across it."
   ]
  },
  {
   "cell_type": "code",
   "execution_count": null,
   "id": "f70889cd-c52f-4e0f-aaa8-6b91a7d288ca",
   "metadata": {},
   "outputs": [],
   "source": [
    "# Install OSMNX\n",
    "# !pip install osmnx"
   ]
  },
  {
   "cell_type": "code",
   "execution_count": null,
   "id": "c6803f96-73af-497a-bd12-d3dec85df8b6",
   "metadata": {},
   "outputs": [],
   "source": [
    "import os\n",
    "import pandas as pd\n",
    "import geopandas as gpd\n",
    "import osmnx as ox\n",
    "import networkx as nx\n",
    "import matplotlib.pyplot as plt"
   ]
  },
  {
   "cell_type": "markdown",
   "id": "73b81ed4-e262-41c9-a7cf-903f1da231e6",
   "metadata": {},
   "source": [
    "# Build a Basic Graph\n",
    "\n",
    "Can we build the same graph pictured here in NetworkX?\n",
    "\n",
    "<img alt=\"basic graph\" width=300 src=\"https://upload.wikimedia.org/wikipedia/commons/thumb/5/5b/6n-graf.svg/1920px-6n-graf.svg.png\">"
   ]
  },
  {
   "cell_type": "code",
   "execution_count": null,
   "id": "47683167-b075-486b-8760-a38db34617de",
   "metadata": {},
   "outputs": [],
   "source": [
    "# Create an empty graph\n",
    "G = nx.Graph()\n",
    "\n",
    "# Add nodes to the graph\n",
    "# ! use G.add_node(node_id) to add nodes\n",
    "\n",
    "# Add edges between nodes\n",
    "# ! use G.add_edge(a, b) to add edges\n",
    "\n",
    "# Draw the graph with labels\n",
    "nx.draw(G, with_labels=True)\n",
    "plt.show()"
   ]
  },
  {
   "cell_type": "code",
   "execution_count": null,
   "id": "095d3d40-a0fd-4de1-b1ae-2bc80b1e496f",
   "metadata": {},
   "outputs": [],
   "source": [
    "# Degrees from a given node\n",
    "# ! G.degree(node_id)"
   ]
  },
  {
   "cell_type": "code",
   "execution_count": null,
   "id": "86b24fcc-b36a-42fa-a5da-45e25da7fc63",
   "metadata": {},
   "outputs": [],
   "source": [
    "# Centrality for each vertex\n",
    "# (degrees / count of other nodes)\n",
    "# ! nx.degree_centrality(G)"
   ]
  },
  {
   "cell_type": "code",
   "execution_count": null,
   "id": "b59798ae-e198-4ffe-8525-0ab5a9f0821b",
   "metadata": {},
   "outputs": [],
   "source": [
    "# Average centrality\n",
    "# ! calculate average as the sum of degree centralities divided by the number of nodes"
   ]
  },
  {
   "cell_type": "code",
   "execution_count": null,
   "id": "87ccfcad-8168-4d3a-90ce-9785b5d560cf",
   "metadata": {},
   "outputs": [],
   "source": [
    "# Shortest path\n",
    "# ! nx.shortest_path(G, a, b)"
   ]
  },
  {
   "cell_type": "markdown",
   "id": "ba01e979-0372-4dc4-8c56-a22615b67600",
   "metadata": {},
   "source": [
    "# Analyzing a Street Network\n",
    "\n",
    "## Load a street network from OSM"
   ]
  },
  {
   "cell_type": "code",
   "execution_count": null,
   "id": "b2eec042-bdf7-4866-ada4-76e5bcd7ec5e",
   "metadata": {},
   "outputs": [],
   "source": [
    "# Define coordinate systems\n",
    "UTM18 = 26918\n",
    "WGS84 = 4326"
   ]
  },
  {
   "cell_type": "code",
   "execution_count": null,
   "id": "9676b172-ed16-4390-9e01-82bcf1381395",
   "metadata": {},
   "outputs": [],
   "source": [
    "# Retrieve the street network for Washington, DC\n",
    "place = 'Washington, DC, USA'\n",
    "dc_network_g = ox.graph_from_place(place, network_type='drive')\n",
    "dc_network_g = ox.project_graph(dc_network_g, to_crs=UTM18)\n",
    "# Convert to geodataframes for easy plotting and exploration\n",
    "dc_network_nodes, dc_network_edges = ox.graph_to_gdfs(dc_network_g)"
   ]
  },
  {
   "cell_type": "markdown",
   "id": "218f8a03-f51b-4986-af79-d403a8420f95",
   "metadata": {},
   "source": [
    "## Load other data"
   ]
  },
  {
   "cell_type": "code",
   "execution_count": null,
   "id": "77076512-2828-4d36-9844-99ffc8d387b8",
   "metadata": {},
   "outputs": [],
   "source": [
    "# Load affordable housing points\n",
    "affordable_housing = gpd.read_file('Affordable_Housing.geojson').to_crs(UTM18)"
   ]
  },
  {
   "cell_type": "code",
   "execution_count": null,
   "id": "f166596c-00ca-4cd9-a7cc-ace671c98453",
   "metadata": {},
   "outputs": [],
   "source": [
    "# Load Metro Center point\n",
    "metro_center = gpd.points_from_xy([-77.032774], [38.8985198])\n",
    "metro_center = gpd.GeoDataFrame(geometry=metro_center, crs=WGS84).to_crs(epsg=UTM18)"
   ]
  },
  {
   "cell_type": "code",
   "execution_count": null,
   "id": "fa8d5bda-51af-45ac-878d-2bc9f8a0d309",
   "metadata": {},
   "outputs": [],
   "source": [
    "# Map data to make sure everything lines up\n",
    "ax = dc_network_edges.plot(color='black', zorder=1)\n",
    "affordable_housing.plot(ax=ax, color='blue', zorder=2)\n",
    "metro_center.plot(ax=ax, color='red', zorder=3)"
   ]
  },
  {
   "cell_type": "markdown",
   "id": "7d71742e-ff06-47be-a690-22169ffa9936",
   "metadata": {},
   "source": [
    "## Relate points to street network"
   ]
  },
  {
   "cell_type": "code",
   "execution_count": null,
   "id": "83823b8a-7b6c-411f-b5c3-33e22cb5af2d",
   "metadata": {},
   "outputs": [],
   "source": [
    "# Find the nearest node to metro center\n",
    "metro_center_nodes, metro_center_node_dists = ox.nearest_nodes(\n",
    "    dc_network_g,\n",
    "    metro_center.geometry.get_coordinates().x, \n",
    "    metro_center.geometry.get_coordinates().y, \n",
    "    return_dist=True)"
   ]
  },
  {
   "cell_type": "code",
   "execution_count": null,
   "id": "ee5f1479-4be6-4b6d-b971-03db5cc248c8",
   "metadata": {},
   "outputs": [],
   "source": [
    "metro_center_nodes"
   ]
  },
  {
   "cell_type": "code",
   "execution_count": null,
   "id": "70ffc7ed-fd5c-456e-8379-9260ef0e8394",
   "metadata": {},
   "outputs": [],
   "source": [
    "metro_center_node_dists"
   ]
  },
  {
   "cell_type": "code",
   "execution_count": null,
   "id": "ec96aa4a-6102-4870-8efe-4be3c8146bc9",
   "metadata": {},
   "outputs": [],
   "source": [
    "# Find the nearest nodes to affordable housing units\n",
    "affordable_housing_nodes, affordable_housing_node_dists = ox.nearest_nodes(\n",
    "    dc_network_g,\n",
    "    affordable_housing.geometry.get_coordinates().x,\n",
    "    affordable_housing.geometry.get_coordinates().y,\n",
    "    return_dist=True)"
   ]
  },
  {
   "cell_type": "code",
   "execution_count": null,
   "id": "e7e5d3d1-c566-4641-8a7e-43a96c54a02b",
   "metadata": {},
   "outputs": [],
   "source": [
    "affordable_housing_nodes[:5]"
   ]
  },
  {
   "cell_type": "code",
   "execution_count": null,
   "id": "c561a089-0155-4ae0-a73d-e0ecb3e187cb",
   "metadata": {},
   "outputs": [],
   "source": [
    "affordable_housing_node_dists[:5]"
   ]
  },
  {
   "cell_type": "markdown",
   "id": "efddbe4d-d89d-4eca-9a64-f1dd70001808",
   "metadata": {},
   "source": [
    "## Calculate shortest path"
   ]
  },
  {
   "cell_type": "code",
   "execution_count": null,
   "id": "8fbcfe44-2025-4bd7-bfe7-15a0904d6d08",
   "metadata": {},
   "outputs": [],
   "source": [
    "# Calculate shortest path\n",
    "affordable_housing_node = affordable_housing_nodes[0]\n",
    "metro_center_node = metro_center_nodes[0]\n",
    "\n",
    "route = ox.shortest_path(\n",
    "    dc_network_g, \n",
    "    affordable_housing_node, \n",
    "    metro_center_node, \n",
    "    weight='length',\n",
    ")"
   ]
  },
  {
   "cell_type": "code",
   "execution_count": null,
   "id": "89625d39-819c-4064-a955-6b61a0fc4b83",
   "metadata": {},
   "outputs": [],
   "source": [
    "fig, ax = ox.plot_graph_route(dc_network_g, route, route_color=\"y\", route_linewidth=6, node_size=0)"
   ]
  },
  {
   "cell_type": "markdown",
   "id": "0f56db84-43b2-432a-9b8e-f6abae6c139d",
   "metadata": {},
   "source": [
    "## Calculate travel time"
   ]
  },
  {
   "cell_type": "code",
   "execution_count": null,
   "id": "69c0b203-0185-408b-b990-f97c1ae63f6a",
   "metadata": {},
   "outputs": [],
   "source": [
    "# dc_network_edges.head()"
   ]
  },
  {
   "cell_type": "code",
   "execution_count": null,
   "id": "e813219d-3af0-4898-8e79-ae2d355a0233",
   "metadata": {},
   "outputs": [],
   "source": [
    "# impute speed on all edges missing data\n",
    "dc_network_g = ox.add_edge_speeds(dc_network_g)\n",
    "\n",
    "# calculate travel time (seconds) for all edges\n",
    "dc_network_g = ox.add_edge_travel_times(dc_network_g)\n",
    "\n",
    "# Convert to geodataframes\n",
    "dc_network_nodes, dc_network_edges = ox.graph_to_gdfs(dc_network_g)"
   ]
  },
  {
   "cell_type": "code",
   "execution_count": null,
   "id": "3b924d88-e81a-41c0-8144-ee8733bb0929",
   "metadata": {},
   "outputs": [],
   "source": [
    "route = ox.shortest_path(\n",
    "    dc_network_g, \n",
    "    affordable_housing_node, \n",
    "    metro_center_node, \n",
    "    weight='travel_time',\n",
    ")"
   ]
  },
  {
   "cell_type": "code",
   "execution_count": null,
   "id": "7b433165-1fb3-4519-8602-0e885610aa02",
   "metadata": {},
   "outputs": [],
   "source": [
    "fig, ax = ox.plot_graph_route(dc_network_g, route, route_color=\"y\", route_linewidth=6, node_size=0)"
   ]
  },
  {
   "cell_type": "code",
   "execution_count": null,
   "id": "7407c513-c440-432e-ab31-a751cf4dea57",
   "metadata": {},
   "outputs": [],
   "source": [
    "# Add up travel time and distance along the route\n",
    "ox.routing.route_to_gdf(dc_network_g, route)['travel_time'].sum()"
   ]
  },
  {
   "cell_type": "code",
   "execution_count": null,
   "id": "5309ebea-fbb7-4268-a47d-1ffcd140858b",
   "metadata": {},
   "outputs": [],
   "source": [
    "ox.routing.route_to_gdf(dc_network_g, route)['length'].sum()"
   ]
  },
  {
   "cell_type": "markdown",
   "id": "d908e852-af7e-4eee-b5ff-3bacd84d69ff",
   "metadata": {},
   "source": [
    "## Loop calculations for bulk processing"
   ]
  },
  {
   "cell_type": "code",
   "execution_count": null,
   "id": "e9580fc1-151d-4a87-9373-782e66ec34c1",
   "metadata": {},
   "outputs": [],
   "source": [
    "def shortest_paths_to_metro_center(graph, o_nodes, d_node, weight='length'):    \n",
    "    # Calculate shortest paths between each O-D pair\n",
    "    d_nodes = [d_node] * len(o_nodes)\n",
    "    routes = ox.shortest_path(graph, o_nodes, d_nodes, weight=weight)\n",
    "    # Gather data for edges along each route\n",
    "    combined_route_edges = []\n",
    "    for route_id, route in enumerate(routes):\n",
    "        route_edges = ox.routing.route_to_gdf(dc_network_g, route)\n",
    "        route_edges['route_id'] = route_id\n",
    "        combined_route_edges.append(route_edges)\n",
    "    combined_route_edges = pd.concat(combined_route_edges, axis=0)\n",
    "    # Sum length and travel time for edges involved with each route\n",
    "    route_summaries = combined_route_edges.groupby('route_id')[['length','travel_time']].sum()\n",
    "    # Clean up column names\n",
    "    route_summaries = route_summaries.rename(columns={'length':'dist_to_metro_center', 'travel_time': 'time_to_metro_center'})\n",
    "    return route_summaries\n",
    "        \n",
    "routes = shortest_paths_to_metro_center(\n",
    "    dc_network_g, \n",
    "    affordable_housing_nodes, \n",
    "    metro_center_node, \n",
    "    weight='length'\n",
    ")\n",
    "\n",
    "routes.head()"
   ]
  },
  {
   "cell_type": "code",
   "execution_count": null,
   "id": "18257624-652b-4c91-95f1-49bd1ff37ad8",
   "metadata": {},
   "outputs": [],
   "source": [
    "# Add distance and time estimates back to affordable housing df\n",
    "affordable_housing = pd.concat([affordable_housing, routes], axis=1)"
   ]
  },
  {
   "cell_type": "code",
   "execution_count": null,
   "id": "703ebd07-4320-4bc7-801c-017b6ff55964",
   "metadata": {},
   "outputs": [],
   "source": [
    "affordable_housing.head()"
   ]
  },
  {
   "cell_type": "markdown",
   "id": "3c3ea4a3-487f-4ba1-83de-b9f33f3364bf",
   "metadata": {},
   "source": [
    "## Compare to straight line distance"
   ]
  },
  {
   "cell_type": "code",
   "execution_count": null,
   "id": "0bb91ccf-9c85-4895-a337-96857e6062b0",
   "metadata": {},
   "outputs": [],
   "source": [
    "affordable_housing['straight_dist_to_metro_center'] = affordable_housing.distance(metro_center.geometry.iloc[0])"
   ]
  },
  {
   "cell_type": "code",
   "execution_count": null,
   "id": "c2d1f85f-bfe4-44de-876f-b8b10e9199b3",
   "metadata": {},
   "outputs": [],
   "source": [
    "(affordable_housing['dist_to_metro_center'] - affordable_housing['straight_dist_to_metro_center']).hist()"
   ]
  }
 ],
 "metadata": {
  "colab": {
   "provenance": []
  },
  "kernelspec": {
   "display_name": "Python 3 (ipykernel)",
   "language": "python",
   "name": "python3"
  },
  "language_info": {
   "codemirror_mode": {
    "name": "ipython",
    "version": 3
   },
   "file_extension": ".py",
   "mimetype": "text/x-python",
   "name": "python",
   "nbconvert_exporter": "python",
   "pygments_lexer": "ipython3",
   "version": "3.13.1"
  }
 },
 "nbformat": 4,
 "nbformat_minor": 5
}
