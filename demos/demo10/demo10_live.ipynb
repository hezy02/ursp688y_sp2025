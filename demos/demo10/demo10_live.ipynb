{
 "cells": [
  {
   "cell_type": "markdown",
   "id": "13b62af4-9c03-46d7-805c-cebadd28185e",
   "metadata": {
    "editable": true,
    "id": "13b62af4-9c03-46d7-805c-cebadd28185e",
    "tags": []
   },
   "source": [
    "Urban Data Science & Smart Cities <br>\n",
    "URSP688Y Spring 2025<br>\n",
    "Instructor: Chester Harvey <br>\n",
    "Urban Studies & Planning <br>\n",
    "National Center for Smart Growth <br>\n",
    "University of Maryland"
   ]
  },
  {
   "attachments": {},
   "cell_type": "markdown",
   "id": "b7d7937e-5289-44bb-ac8b-1e0b03a74e0b",
   "metadata": {
    "id": "b7d7937e-5289-44bb-ac8b-1e0b03a74e0b"
   },
   "source": [
    "# Demo 10 - Spatial Visualization\n",
    "\n",
    "Today we'll be talking about visualizing spatial data, more colloquially known as making maps. Like other data visualization in Python, mapping is essentially just drawing in Cartesian space. Maps, however, introduce some particularities around coordinate reference systems (projections). They can also be supplemented with base layers showing reference data. The ubiquity of web maps nowadays also compels us to develop interactive maps that let us pan, zoom, and click on objects to get more information. Luckily, some packages make developing maps with Python fairly straightforward, though it can still take some work to refine them visually."
   ]
  },
  {
   "cell_type": "code",
   "execution_count": null,
   "id": "8ee59742-8471-4ae2-922c-e0398ce31fd6",
   "metadata": {},
   "outputs": [],
   "source": [
    "import geopandas as gpd\n",
    "import pandas as pd\n",
    "import numpy as np\n",
    "import matplotlib.pyplot as plt\n",
    "import os"
   ]
  },
  {
   "cell_type": "markdown",
   "id": "4a060a17-46d2-4ee8-aa75-784b1485eab0",
   "metadata": {},
   "source": [
    "## GeoPandas `plot`\n",
    "\n",
    "The simplest option for making a static map from a GeoDataFrame is the built-in `plot` method."
   ]
  },
  {
   "cell_type": "code",
   "execution_count": null,
   "id": "ed69ee68-a04b-4b6c-911d-0de09377ad04",
   "metadata": {},
   "outputs": [],
   "source": [
    "crs = 26918 # UTM18\n",
    "affordable_housing = gpd.read_file('affordable_housing.geojson').to_crs(crs)\n",
    "tracts = gpd.read_file('dc_tracts.geojson').to_crs(crs)\n",
    "# Restrict to tract-level features, which have geoids 18 characters long\n",
    "tracts = tracts[tracts.geoid.str.len() == 18]"
   ]
  },
  {
   "cell_type": "code",
   "execution_count": null,
   "id": "fa22f928-2adc-4131-a4dd-2fc0b9ea0c21",
   "metadata": {},
   "outputs": [],
   "source": [
    "fig, ax = plt.subplots(figsize=(10, 10))\n",
    "ax = tracts.plot(ax=ax, facecolor='none', edgecolor='k', zorder=0)\n",
    "affordable_housing.plot(ax=ax, markersize=5, color='r', zorder=1)\n",
    "ax.axis('off')\n",
    "\n",
    "plt.savefig('large_scale_map.eps')\n",
    "\n",
    "plt.show()"
   ]
  },
  {
   "cell_type": "code",
   "execution_count": null,
   "id": "d68067b7-6b34-429d-8168-09cb0cbfebd5",
   "metadata": {},
   "outputs": [],
   "source": [
    "affordable_housing = affordable_housing.sjoin(tracts[['geoid','geometry']])"
   ]
  },
  {
   "cell_type": "code",
   "execution_count": null,
   "id": "ab4e7bd6-4853-40b9-9eea-9d091fa5fec7",
   "metadata": {},
   "outputs": [],
   "source": [
    "tracts = tracts.set_index('geoid')"
   ]
  },
  {
   "cell_type": "code",
   "execution_count": null,
   "id": "acd6afb4-7bff-41a5-82d9-52b0c2406c93",
   "metadata": {},
   "outputs": [],
   "source": [
    "tracts = pd.concat([tracts, affordable_housing.groupby('geoid').agg({'TOTAL_AFFORDABLE_UNITS':'sum'})], axis=1)\n",
    "tracts = tracts.fillna(0)"
   ]
  },
  {
   "cell_type": "code",
   "execution_count": null,
   "id": "75107e05-3ca0-422b-bc1b-cead0266f288",
   "metadata": {},
   "outputs": [],
   "source": [
    "fig, ax = plt.subplots(figsize=(10, 10))\n",
    "ax = tracts.plot(ax=ax, column='TOTAL_AFFORDABLE_UNITS', cmap='PuBu', linewidth=0.5, edgecolor='black', legend=True)\n",
    "affordable_housing.plot(ax=ax, markersize=5, color='r', zorder=1)\n",
    "ax.axis('off')\n",
    "\n",
    "plt.savefig('large_scale_map.eps')\n",
    "\n",
    "plt.show()"
   ]
  },
  {
   "cell_type": "code",
   "execution_count": null,
   "id": "5b639a7c-a149-448b-9f28-99e1a2f25301",
   "metadata": {},
   "outputs": [],
   "source": [
    "tracts['affordable_units_per_pop'] = tracts['TOTAL_AFFORDABLE_UNITS'] / tracts['B01003001']"
   ]
  },
  {
   "cell_type": "code",
   "execution_count": null,
   "id": "681d6c67-bc23-4a30-a916-686818c7d3f1",
   "metadata": {},
   "outputs": [],
   "source": [
    "fig, ax = plt.subplots(figsize=(10, 10))\n",
    "ax = tracts.plot(ax=ax, column='affordable_units_per_pop', cmap='PuBu', linewidth=0.5, edgecolor='black', legend=True)\n",
    "affordable_housing.plot(ax=ax, markersize=5, color='r', zorder=1)\n",
    "ax.axis('off')\n",
    "\n",
    "plt.savefig('large_scale_map.eps')\n",
    "\n",
    "plt.show()"
   ]
  },
  {
   "cell_type": "code",
   "execution_count": null,
   "id": "e47eefd3-43de-4fb5-a3ff-af87135c7c8d",
   "metadata": {},
   "outputs": [],
   "source": [
    "fig, ax = plt.subplots(figsize=(10, 10))\n",
    "ax = tracts.plot(ax=ax, column='TOTAL_AFFORDABLE_UNITS', cmap='PuBu', linewidth=0.5, edgecolor='black', legend=True)\n",
    "affordable_housing.plot(ax=ax, markersize=5, color='r', zorder=1)\n",
    "ax.axis('off')\n",
    "\n",
    "plt.savefig('large_scale_map.eps')\n",
    "\n",
    "plt.show()"
   ]
  },
  {
   "cell_type": "markdown",
   "id": "9390ce41-d1a4-4830-a86e-649be54ad059",
   "metadata": {},
   "source": [
    "### Proportional Symbol Map\n",
    "\n",
    "An elegant way to map counts without biasing by the areas of spatial units is to use proportional symbols. This script calculates the radii (buffer distances) for circular symbols with areas proportional to input counts. "
   ]
  },
  {
   "cell_type": "code",
   "execution_count": null,
   "id": "d56a496d-fcb4-444e-946d-329b32891da0",
   "metadata": {},
   "outputs": [],
   "source": [
    "tract_points = tracts.copy()\n",
    "tract_points['geometry'] = tract_points.centroid\n",
    "\n",
    "def proportional_circles_radii(values, multiplier=1):\n",
    "    return np.sqrt(values / 3.14) * multiplier\n",
    "\n",
    "fig, ax = plt.subplots(figsize=(10, 10))\n",
    "ax = tracts.plot(ax=ax, facecolor='none', edgecolor='black', zorder=0, linewidth=0.5)\n",
    "\n",
    "tract_points.buffer(proportional_circles_radii(tract_points['TOTAL_AFFORDABLE_UNITS'], 25)).plot(\n",
    "    ax=ax, \n",
    "    zorder=1, \n",
    "    facecolor='lavender', \n",
    "    edgecolor='midnightblue', \n",
    "    linewidth=0.5)\n",
    "# affordable_housing.plot(ax=ax, markersize=1, color='darkblue', zorder=2)\n",
    "ax.axis('off')\n",
    "\n",
    "plt.savefig('large_scale_map.eps')\n",
    "\n",
    "plt.show()"
   ]
  },
  {
   "cell_type": "markdown",
   "id": "2099f996-bca2-4add-a351-6c4184cf5f5b",
   "metadata": {},
   "source": [
    "## Contextly can automatically add a basemap for reference"
   ]
  },
  {
   "cell_type": "code",
   "execution_count": null,
   "id": "6b9a7598-ed4f-4984-adb4-bf7b17a519ae",
   "metadata": {},
   "outputs": [],
   "source": [
    "# !pip install contextily"
   ]
  },
  {
   "cell_type": "code",
   "execution_count": null,
   "id": "9bdede56-b2ba-456d-8ebf-4efee3d83f02",
   "metadata": {},
   "outputs": [],
   "source": [
    "import contextily as cx"
   ]
  },
  {
   "cell_type": "code",
   "execution_count": null,
   "id": "30f572c8-2759-4f4e-ab64-99f0011c3164",
   "metadata": {},
   "outputs": [],
   "source": [
    "tract_points = tracts.copy()\n",
    "tract_points['geometry'] = tract_points.centroid\n",
    "\n",
    "def proportional_circles_radii(values, multiplier=1):\n",
    "    return np.sqrt(values / 3.14) * multiplier\n",
    "\n",
    "fig, ax = plt.subplots(figsize=(10, 10))\n",
    "ax = tracts.plot(ax=ax, facecolor='none', edgecolor='k', zorder=1, linewidth=0.5)\n",
    "\n",
    "tract_points.buffer(proportional_circles_radii(tract_points['TOTAL_AFFORDABLE_UNITS'], 25)).plot(\n",
    "    ax=ax, \n",
    "    facecolor='lavender', \n",
    "    edgecolor='midnightblue', \n",
    "    linewidth=0.5, \n",
    "    zorder=2)\n",
    "ax.axis('off')\n",
    "\n",
    "# Base map with labels embedded\n",
    "cx.add_basemap(ax, crs=crs, source=cx.providers.CartoDB.Positron, zorder=0)\n",
    "\n",
    "# Base map with labels overlaid\n",
    "# cx.add_basemap(ax, crs=crs, source=cx.providers.CartoDB.PositronNoLabels, zorder=0)\n",
    "# cx.add_basemap(ax, crs=crs, source=cx.providers.CartoDB.PositronOnlyLabels, zorder=3)\n",
    "\n",
    "plt.savefig('large_scale_map.eps')\n",
    "\n",
    "plt.show()"
   ]
  },
  {
   "cell_type": "markdown",
   "id": "4a7e62ca-1365-448c-869e-770b2aa5d4d3",
   "metadata": {},
   "source": [
    "## Folium\n",
    "\n",
    "To make an interactive map with the popular [Leaflet.js](https://leafletjs.com/reference) JavaScript library, we can use Folium."
   ]
  },
  {
   "cell_type": "code",
   "execution_count": null,
   "id": "aeec761b-7c9f-4c30-8abb-c728af0c88ff",
   "metadata": {},
   "outputs": [],
   "source": [
    "# !pip install folium"
   ]
  },
  {
   "cell_type": "code",
   "execution_count": null,
   "id": "ef4336d2-078c-430e-9cb0-f24ffbd8d217",
   "metadata": {},
   "outputs": [],
   "source": [
    "import folium"
   ]
  },
  {
   "cell_type": "code",
   "execution_count": null,
   "id": "0895fb75-97d9-4bbd-8950-7a2f7737d397",
   "metadata": {},
   "outputs": [],
   "source": [
    "affordable_housing = gpd.read_file('affordable_housing.geojson')\n",
    "tracts = gpd.read_file('dc_tracts.geojson')\n",
    "\n",
    "# Project into lat and long (WGS84)\n",
    "affordable_housing = affordable_housing.to_crs(4326)\n",
    "tracts = tracts.to_crs(4326)\n",
    "\n",
    "# Drop column with timestamps because they interfere with Folium\n",
    "affordable_housing = affordable_housing.drop(columns=['GIS_LAST_MOD_DTTM'])\n",
    "\n",
    "# Identify map center\n",
    "lon_min, lat_min, lon_max, lat_max = tracts.total_bounds\n",
    "lon_center = (lon_max + lon_min) / 2\n",
    "lat_center = (lat_max + lat_min) / 2\n",
    "\n",
    "# Initiate map\n",
    "map = folium.Map(location=(lat_center, lon_center), zoom_start=12)\n",
    "# map = folium.Map(location=(lat_center, lon_center), zoom_start=12, tiles=\"Cartodb Positron\")\n",
    "\n",
    "# Add tracts\n",
    "tract_style = {\n",
    "    'weight': 1,\n",
    "    'color': 'black',\n",
    "    'fillColor': '#00000000',\n",
    "    'fillOpacity': 1,\n",
    "    }\n",
    "folium.GeoJson(data=tracts.to_json(), style_function=lambda x: tract_style).add_to(map)\n",
    "\n",
    "# Add affordable housing points\n",
    "circle_marker = folium.CircleMarker(radius = 4, weight = 1, color='white', fillColor = 'darkblue', fill_opacity=1)\n",
    "affordable_housing_points = folium.GeoJson(affordable_housing.to_json(), marker=circle_marker)\n",
    "folium.features.GeoJsonPopup(fields=['PROJECT_NAME','TOTAL_AFFORDABLE_UNITS'], labels=True).add_to(affordable_housing_points)\n",
    "affordable_housing_points.add_to(map)\n",
    "\n",
    "map"
   ]
  },
  {
   "cell_type": "markdown",
   "id": "ecd8b9f0-fc6c-46e6-8804-fef27680bc93",
   "metadata": {},
   "source": [
    "## GeoPandas `explore`\n",
    "\n",
    "To make life just a little easier, GeoPandas has a built-in method for making a Folium map with `explore`."
   ]
  },
  {
   "cell_type": "code",
   "execution_count": null,
   "id": "0852f66e-7eaf-4863-a9a0-836934d9ac64",
   "metadata": {},
   "outputs": [],
   "source": [
    "m = tracts.explore(\n",
    "    tiles='CartoDB positron',\n",
    "    attr='MapBox CartoDB positron',\n",
    "    style_kwds={\n",
    "        'weight': 1,\n",
    "        'color': 'black',\n",
    "        'fillColor': '#00000000',\n",
    "        'fillOpacity': 1,\n",
    "    },\n",
    ")\n",
    "\n",
    "m = affordable_housing.explore(\n",
    "    m=m,\n",
    "    marker_kwds={\n",
    "        'radius':4, \n",
    "        'weight':1, \n",
    "        'color':'white', \n",
    "        'fillColor':'darkblue', \n",
    "        'fill_opacity':1\n",
    "    },\n",
    ")\n",
    "\n",
    "m"
   ]
  },
  {
   "cell_type": "markdown",
   "id": "9a897133-7220-47bb-8351-35c860e1138f",
   "metadata": {},
   "source": [
    "## CartoPy\n",
    "\n",
    "If you're making a smaller-scale map of a state, country, or continent (can you guess why the scale is called \"smaller\"?) you may need to use a specialized projection to avoid distortion or preserve particular qualities (e.g., using an equidistant projection to allow for measurement between distant points).\n",
    "\n",
    "A package called CartoPy enables mapping in Python with nearly any projection. It also allows you to access convenient base layers from [Natural Earth](https://www.naturalearthdata.com/), a free database of global basemap data for cultural (e.g., borders) and physical (e.g., coastlines) features."
   ]
  },
  {
   "cell_type": "code",
   "execution_count": null,
   "id": "f70889cd-c52f-4e0f-aaa8-6b91a7d288ca",
   "metadata": {},
   "outputs": [],
   "source": [
    "# !pip install cartopy"
   ]
  },
  {
   "cell_type": "code",
   "execution_count": null,
   "id": "5c70e30e-f5da-4f38-9446-75ac8264cb55",
   "metadata": {},
   "outputs": [],
   "source": [
    "import cartopy.crs as ccrs\n",
    "import cartopy.feature as cfeature"
   ]
  },
  {
   "cell_type": "code",
   "execution_count": null,
   "id": "a583ea8d-0e20-4f51-90d4-deff00cc8884",
   "metadata": {},
   "outputs": [],
   "source": [
    "# Define highlight city\n",
    "highlight_city = 'Washington,  D.C.'\n",
    "# highlight_city = 'Chicago'\n",
    "\n",
    "# Load city points\n",
    "pop_places = gpd.read_file('ne_10m_populated_places_simple.zip')\n",
    "\n",
    "# Define map center and extents around the highlight city\n",
    "lon_center = pop_places[pop_places['name'] == highlight_city].geometry.x.iloc[0]\n",
    "lat_center = pop_places[pop_places['name'] == highlight_city].geometry.y.iloc[0]\n",
    "extent = 50\n",
    "lon_min = lon_center + (extent / 2)\n",
    "lon_max = lon_center - (extent / 2)\n",
    "lat_min = lat_center - (extent / 2)\n",
    "lat_max = lat_center + (extent / 2)\n",
    "\n",
    "# Define projection centered on highlight city\n",
    "crs = ccrs.AzimuthalEquidistant(central_longitude=lon_center, central_latitude=lat_center)\n",
    "\n",
    "# Project cities into axis coordinate system\n",
    "pop_places = pop_places.to_crs(crs.proj4_init)\n",
    "\n",
    "# Constrain to cities only one rank lower than the highlight\n",
    "rank = pop_places[pop_places['name'] == highlight_city].scalerank.iloc[0] + 1\n",
    "pop_places = pop_places[pop_places.scalerank <= rank]\n",
    "\n",
    "# Initiate figure\n",
    "fig = plt.figure(figsize=(15, 10))\n",
    "\n",
    "# Initiate axis with defined projection\n",
    "ax = plt.subplot(1, 1, 1, projection=crs)\n",
    "ax.set_extent([lon_min, lon_max, lat_min, lat_max], crs=ccrs.PlateCarree())\n",
    "\n",
    "# Add base features\n",
    "ax.add_feature(cfeature.BORDERS, linewidth=0.5, edgecolor='blue', linestyle='--', zorder=0)\n",
    "ax.add_feature(cfeature.LAND, zorder=1)\n",
    "ax.add_feature(cfeature.COASTLINE, zorder=2)\n",
    "ax.add_feature(cfeature.LAKES, alpha=0.5, zorder=3)\n",
    "ax.add_feature(cfeature.STATES, zorder=4)\n",
    "ax.add_feature(cfeature.RIVERS, zorder=5)\n",
    "\n",
    "# Add city points\n",
    "pop_places.plot(ax=ax, markersize=5, color='k', zorder=1)\n",
    "pop_places[pop_places['name'] == highlight_city].plot(ax=ax, markersize=50, color='r', zorder=6)\n",
    "\n",
    "# Label cities\n",
    "def annotate(record):\n",
    "    if record['name'] == highlight_city:\n",
    "        ax.annotate(record['name'], weight='bold', size=14, color='red', xy=record.geometry.coords[0], xytext=(3, 3), textcoords='offset points', clip_on=True)\n",
    "    else:\n",
    "        ax.annotate(record['name'], xy=record.geometry.coords[0], xytext=(3, 3), textcoords='offset points', clip_on=True)\n",
    "pop_places.apply(annotate, axis=1)\n",
    "\n",
    "plt.savefig('small_scale_map.eps', format='eps')\n",
    "\n",
    "plt.show()"
   ]
  },
  {
   "cell_type": "code",
   "execution_count": null,
   "id": "b5709342-bf89-4b47-b012-971a7adb89b4",
   "metadata": {},
   "outputs": [],
   "source": []
  }
 ],
 "metadata": {
  "colab": {
   "provenance": []
  },
  "kernelspec": {
   "display_name": "Python 3 (ipykernel)",
   "language": "python",
   "name": "python3"
  },
  "language_info": {
   "codemirror_mode": {
    "name": "ipython",
    "version": 3
   },
   "file_extension": ".py",
   "mimetype": "text/x-python",
   "name": "python",
   "nbconvert_exporter": "python",
   "pygments_lexer": "ipython3",
   "version": "3.13.1"
  }
 },
 "nbformat": 4,
 "nbformat_minor": 5
}
