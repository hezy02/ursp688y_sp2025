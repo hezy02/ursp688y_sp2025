{
 "cells": [
  {
   "cell_type": "markdown",
   "id": "61688034-24b5-4400-8b06-7e3188b283f1",
   "metadata": {},
   "source": [
    "Urban Data Science & Smart Cities <br>\n",
    "URSP688Y Spring 2025<br>\n",
    "Instructor: Chester Harvey <br>\n",
    "Urban Studies & Planning <br>\n",
    "National Center for Smart Growth <br>\n",
    "University of Maryland"
   ]
  },
  {
   "cell_type": "markdown",
   "id": "3f9c1002-000c-4080-a9f1-43e319e7d0be",
   "metadata": {},
   "source": [
    "# Exercise04\n",
    "\n",
    "This last exercise is an opportunity for you to get started on your final project. Please identify a portion of your project to get started on and submit a notebook (and any other related files) where you:\n",
    "\n",
    "1. State the question you are aiming to address with this portion of your analysis\n",
    "2. Outline the approach you will use to answer that question (pseudocode or you can start to more formally outline the approach section for your final narrative)\n",
    "3. Operationalize your approach with data and code that you can later slot into your final analysis\n",
    "\n",
    "## Submitting\n",
    "\n",
    "Please make a pull request with all of your code and reasonably-sized data in a folder with your first name. See the example with my name in the `exercise04` directory.\n",
    "\n",
    "If you have datasets that are too large for GitHub or should not be made public, please upload them to a cloud location (e.g., Google Drive) to which I (and ideally your classmates) have access. Please also provide instructions for how someone running your code should properly locate or connect to these files so the analysis will run properly. For example, should they copy and paste the files into the same directory as your notebook, or a provided `data` directory? Best practice is to include these instructions in a separate ReadMe.md or ReadMe.txt file, or at the top of your notebook."
   ]
  },
  {
   "cell_type": "code",
   "execution_count": null,
   "id": "1520d252-ba00-4330-b13e-7551d3d42807",
   "metadata": {},
   "outputs": [],
   "source": []
  }
 ],
 "metadata": {
  "kernelspec": {
   "display_name": "Python 3 (ipykernel)",
   "language": "python",
   "name": "python3"
  },
  "language_info": {
   "codemirror_mode": {
    "name": "ipython",
    "version": 3
   },
   "file_extension": ".py",
   "mimetype": "text/x-python",
   "name": "python",
   "nbconvert_exporter": "python",
   "pygments_lexer": "ipython3",
   "version": "3.13.1"
  }
 },
 "nbformat": 4,
 "nbformat_minor": 5
}
