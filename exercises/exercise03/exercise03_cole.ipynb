{
 "cells": [
  {
   "cell_type": "markdown",
   "id": "61688034-24b5-4400-8b06-7e3188b283f1",
   "metadata": {},
   "source": [
    "Urban Data Science & Smart Cities <br>\n",
    "URSP688Y Spring 2025<br>\n",
    "Instructor: Chester Harvey <br>\n",
    "Urban Studies & Planning <br>\n",
    "National Center for Smart Growth <br>\n",
    "University of Maryland"
   ]
  },
  {
   "cell_type": "markdown",
   "id": "3f9c1002-000c-4080-a9f1-43e319e7d0be",
   "metadata": {},
   "source": [
    "# Exercise03\n",
    "\n",
    "## Problem\n",
    "\n",
    "In the last exercise, you used tabular analyses to examine how eviction impacts tenants in Montgomery and Prince George's Counties. In this exercise, you will use more precise, address-level data to analyze evictions across the entire state through a spatial lens.\n",
    "\n",
    "**You get to write your own research question, but with a few parameters:**\n",
    "- It should be addressable with the provided eviction data\n",
    "- It should require that you relate the eviction data to at least one other dataset, which you provide\n",
    "- It should involve at least one form of spatial analysis (e.g., proximity, overlay, or measurement of another spatial relationship)\n",
    "\n",
    "**Please write a short abstract (200-300 words) at the top of your exercise notebook that concisely summarizes your research question, how you addressed it, and the results of your analysis. Then provide reproducible code in cells below.**\n",
    "\n",
    "**Abstract:**\n",
    "\n",
    "For exercise three, I sought to join the eviction data to census data for Maryland to investigate the relationship between disability and eviction rates. To do this, I first cleaned the eviction data so that it only contained cases where evictions actually occured in Montgomery & Prince George's county. I then pulled in census tract data, creating a geodataframe with the two counties and the count of the total number of people in each census tract with a disability. I then combined those two dataframes, using a spatial join, and created a dataframe containing the count of evictions and the number of individuals with a disability within a census tract. I then attempted to create a single, bivariate cloropleth map, with symbology showing where there were high concentrations of both counts, high concentrations of just one count, and areas where there were low concentrations of both counts. However, I was unable to fully solve the challenge of creating a bivariate cloropleth map, and decided to instead simply create a scatterplot betweem total disabled counts and evictions, to do a visual check on if there was any correlation, and there was not. Thus, the evidence does not support the hypothesis that tracts with greater disabled counts also have higher evictions, although it is interesting to note that PG county, slightly smaller than Montgomery county, nevertheless displays greater numbers in both categories.\n",
    "\n",
    "### Bonus\n",
    "\n",
    "Only a portion of the eviction records I'm providing for this exercise have addresses that can be geocoded (converting address strings to geographic coordinates) with a high degree of accuracy, or even at all. How could you assess bias in which records are accurately geocoded? (Hint: This will require you to define accuracy.) Can you write a Python script that evaluates whether higher- and lower-accuracy geocodes are randomly distributed across eviction records, or whether certain types of evictions are more or less likely to be geocoded well? **Please report your approach and findings in a separate paragraph and provide supporting code.**\n",
    "\n",
    "## Data\n",
    "\n",
    "[Exercise 3 Google Drive Folder](https://drive.google.com/drive/folders/1-f7CIS-Nw9HWK1f3GUqhTLwhgtzDXVfl?usp=sharing)\n",
    "\n",
    "I'm providing you with eviction warrant data for the whole state of Maryland from 2022 through December 2024. These are from the same District Court of Maryland and Department of Housing and Community Development (DHCD) [source](https://app.powerbigov.us/view?r=eyJrIjoiYWI1Yzg0YjYtNDFkZS00MDUyLThlMDctYmE1ZjY5MGI0MWJhIiwidCI6IjdkM2I4ZDAwLWY5YmUtNDZlNy05NDYwLTRlZjJkOGY3MzE0OSJ9&pageName=ReportSection) as the data from Exercise 2, but also include street addresses. While these data are technically public, it is best practice not to store address-level data on a public GitHub repository. It is also a best practice not to commit large raw data files to Git. For both these reasons, I have shared this dataset in a [Google Drive](https://drive.google.com/drive/folders/1-f7CIS-Nw9HWK1f3GUqhTLwhgtzDXVfl?usp=sharing) folder to which your UMD account has been invited. You should download `md_eviction_warrants_through_2024.csv` store it in the exercise03 directory on your computer before starting to code. \n",
    "\n",
    "There is a `.gitignore` file in the exercise03 directory that prevents any `.csv` file from being tracked by Git. As long as you don't modify this `.gitignore`, the raw data file won't get committed, pushed to your remote fork, or included in a pull request back to the course repo.\n",
    "\n",
    "## File Management and Submitting\n",
    "To submit, please:\n",
    "1. Make a new branch on your fork for this exercise.\n",
    "2. Make a notebook for your exercise with your first name as an underscored suffix (e.g., `exercise02_chester.ipynb`)\n",
    "    - You can either copy this notebook to work off of or start with a fresh notebook. Your choice.\n",
    "4. Make commits to that branch as you work on the exercise.\n",
    "5. Don't commit the eviction warrant CSV or other raw data files to Git.\n",
    "    - Instead, please add any other raw data files your analysis depends on the [Exercise 3 Google Drive Folder](https://drive.google.com/drive/folders/1-f7CIS-Nw9HWK1f3GUqhTLwhgtzDXVfl?usp=sharing).\n",
    "    - The current `.gitignore` will prevent CSV files from committing. Add additional file names/extensions as necessary.\n",
    "6. Make a pull request from your branch. Ensure that the only files included in your pull request are those you intended for this exercise.\n",
    "\n",
    "## Getting Started\n",
    "To get started, here's some code I developed for geocoding the address in each eviction warrant into a geographic coordinate. You can include all or parts of this code in your own exercise, or just run this notebook to produce the `md_eviction_warrants_through_2024.geoparquet` file and import it into your own notebook to use the results.\n",
    "\n",
    "### U.S. Census Geocoder\n",
    "This geocoding process makes use of a [free geocoder provided by the US Census](https://geocoding.geo.census.gov/geocoder/). It's not the most accurate geocoder available, but it's free and fast.\n",
    "\n",
    "### Breaking Code Into Modules\n",
    "In this geocoding process, I'm demonstrating an approach to coding where you break code up into multiple modules and then import names between modules. This helps keep things tidy, allows you to easily reuse code that's generalizable between applications (e.g., the `utils.py` module here), and organize code used for more specific purposes (e.g., the `exercise03.py` and `census_geocode.py` modules).\n",
    "\n",
    "This is exactly how packages work——modules are the basic building blocks. If you wrote an interconnected set of modules to address a certain problem space, you could publish it as a package and let others download it with conda or pip. That's how open-source software gets its start!"
   ]
  },
  {
   "cell_type": "code",
   "execution_count": 85,
   "id": "1473cd2a-1936-41bf-b409-aef05cfa28b1",
   "metadata": {},
   "outputs": [
    {
     "name": "stdout",
     "output_type": "stream",
     "text": [
      "The autoreload extension is already loaded. To reload it, use:\n",
      "  %reload_ext autoreload\n"
     ]
    }
   ],
   "source": [
    "import pandas as pd\n",
    "import geopandas as gpd\n",
    "import utils\n",
    "import exercise03\n",
    "import census_geocode\n",
    "\n",
    "%load_ext autoreload\n",
    "%autoreload 2\n",
    "\n",
    "#for the final cloropleth map\n",
    "import folium\n",
    "import numpy as np\n",
    "import matplotlib.pyplot as plt\n",
    "from folium import Choropleth\n",
    "import matplotlib.pyplot as plt"
   ]
  },
  {
   "cell_type": "code",
   "execution_count": 2,
   "id": "de69f731-f3d2-4cae-a035-498fc20923fd",
   "metadata": {},
   "outputs": [
    {
     "data": {
      "text/plain": [
       "411040"
      ]
     },
     "execution_count": 2,
     "metadata": {},
     "output_type": "execute_result"
    }
   ],
   "source": [
    "# Load warrants and make sure zip codes are stored as strings without decimals\n",
    "warrants_df = pd.read_csv('md_eviction_warrents_through_2024.csv')\n",
    "warrants_df['TenantZipCode'] = warrants_df['TenantZipCode'].astype('Int64').astype('string')\n",
    "len(warrants_df) # How many warrants are we working with?"
   ]
  },
  {
   "cell_type": "code",
   "execution_count": 3,
   "id": "5cee92bd-e932-4505-9c0b-16ad6e3c9533",
   "metadata": {},
   "outputs": [
    {
     "name": "stdout",
     "output_type": "stream",
     "text": [
      "411040 warrants input\n",
      "Reduced to 167949 unique addresses\n"
     ]
    }
   ],
   "source": [
    "# Rather than geocoding 400K+ addresses, could we get only the unique ones?\n",
    "geocode_input_df = exercise03.prep_warrants_for_geocoding(warrants_df)"
   ]
  },
  {
   "cell_type": "code",
   "execution_count": 4,
   "id": "2e9bf2cf-fd25-43bc-92eb-0f9fecf4bb82",
   "metadata": {},
   "outputs": [
    {
     "name": "stdout",
     "output_type": "stream",
     "text": [
      "split dataframe into 17 chunks\n"
     ]
    }
   ],
   "source": [
    "# The Census Geocoder API can only accept up to 10K rows at a time, so we have to break\n",
    "# our dataframe into chunks\n",
    "\n",
    "# Split into dataframes with less than 10K rows each\n",
    "geocode_input_dfs = utils.chunk_dataframe(geocode_input_df, 9999)\n",
    "\n",
    "# Save each dataframe as a CSV without a header\n",
    "utils.save_dfs_to_csv(geocode_input_dfs, 'geocode_inputs', header=False)"
   ]
  },
  {
   "cell_type": "code",
   "execution_count": 5,
   "id": "cfa32bb8-71de-4561-86aa-032add716e29",
   "metadata": {},
   "outputs": [
    {
     "name": "stdout",
     "output_type": "stream",
     "text": [
      "TEST MODE: Processing only one file.\n",
      "Processing file: geocode_inputs/df_14.csv\n",
      "Saved results to: geocode_outputs/geocoderesult_df_14.csv\n"
     ]
    }
   ],
   "source": [
    "# Geocode addresses with the Census Geocoder (set test=True to process only one file)\n",
    "census_geocode.geocode_csvs('geocode_inputs', 'geocode_outputs', test=True)"
   ]
  },
  {
   "cell_type": "code",
   "execution_count": 6,
   "id": "0d60a313-0bc1-49d1-afce-230556f176eb",
   "metadata": {},
   "outputs": [
    {
     "data": {
      "text/plain": [
       "9999"
      ]
     },
     "execution_count": 6,
     "metadata": {},
     "output_type": "execute_result"
    }
   ],
   "source": [
    "# Recombine outputs from geocoder into a single dataframe\n",
    "geocode_output_df = exercise03.combine_census_geocoded_csvs('geocode_outputs')\n",
    "len(geocode_output_df)"
   ]
  },
  {
   "cell_type": "code",
   "execution_count": 7,
   "id": "f48b44b9-ba81-478e-93cf-50aee3370191",
   "metadata": {},
   "outputs": [
    {
     "data": {
      "text/plain": [
       "9999"
      ]
     },
     "execution_count": 7,
     "metadata": {},
     "output_type": "execute_result"
    }
   ],
   "source": [
    "# Merge geocoded address back onto the inputs with separate fields for address, city, state, and zip\n",
    "geocoded_df = geocode_input_df.merge(geocode_output_df, left_index=True, right_index=True)\n",
    "len(geocoded_df)"
   ]
  },
  {
   "cell_type": "code",
   "execution_count": 8,
   "id": "143884cf-404e-489b-966a-67150bcad99d",
   "metadata": {},
   "outputs": [
    {
     "data": {
      "text/plain": [
       "15112"
      ]
     },
     "execution_count": 8,
     "metadata": {},
     "output_type": "execute_result"
    }
   ],
   "source": [
    "# Use address, city, state, and zip columns to join geocodes onto original warrant records\n",
    "warrants_df = warrants_df.merge(geocoded_df, on=['TenantAddress','TenantCity','TenantState','TenantZipCode'])\n",
    "len(warrants_df)"
   ]
  },
  {
   "cell_type": "code",
   "execution_count": 9,
   "id": "52b66070-42a5-4aad-925b-28c392eab33c",
   "metadata": {},
   "outputs": [],
   "source": [
    "# Convert warrants into a geodataframe with points\n",
    "warrants_gdf = utils.lonlat_str_to_geodataframe(warrants_df, 'match_lon_lat')"
   ]
  },
  {
   "cell_type": "code",
   "execution_count": 10,
   "id": "ced85ad1-9998-470a-85ea-2019b614a552",
   "metadata": {},
   "outputs": [
    {
     "data": {
      "text/plain": [
       "0.948782424563261"
      ]
     },
     "execution_count": 10,
     "metadata": {},
     "output_type": "execute_result"
    }
   ],
   "source": [
    "# What proportion of records have points?\n",
    "len(warrants_gdf[warrants_gdf.lon.notnull()]) / len(warrants_gdf)"
   ]
  },
  {
   "cell_type": "code",
   "execution_count": 11,
   "id": "d60464a1-7c6e-4bea-8cd1-c5a17ec72b0b",
   "metadata": {},
   "outputs": [
    {
     "data": {
      "text/plain": [
       "0.5974060349391213"
      ]
     },
     "execution_count": 11,
     "metadata": {},
     "output_type": "execute_result"
    }
   ],
   "source": [
    "# What proportion of records have exact geocode matches?\n",
    "len(warrants_gdf[warrants_gdf.match_type == 'Exact']) / len(warrants_gdf)"
   ]
  },
  {
   "cell_type": "markdown",
   "id": "a79bf840-c73e-452d-8808-84bf425b7198",
   "metadata": {},
   "source": [
    "Parquet is a file format for tabular data that efficiently stores data of many types, including a 'geoparquet' variant that stores geometries like points, lines, and polygons. You can easily save a dataframe or geodataframe to parquet with the `.to_parquet` method. The resulting file will be much smaller and load faster than more convetional formats, such as CSV or shapefile. The downside is that you won't be able to open it with Excel, ArcGIS, or other conventional desktop software."
   ]
  },
  {
   "cell_type": "code",
   "execution_count": 12,
   "id": "cbdc3367-dcd2-41b7-840a-dee45d29604b",
   "metadata": {},
   "outputs": [],
   "source": [
    "#!conda install -c conda-forge pyarrow\n",
    "warrants_gdf.to_parquet('md_eviction_warrants_through_2024.geoparquet')"
   ]
  },
  {
   "cell_type": "markdown",
   "id": "110a4445-885c-45d7-b428-9fdb40c9a9b7",
   "metadata": {},
   "source": [
    "You can load a parquet file back to a dataframe with `pd.read_parquet('filename')` or a geoparquet back to a geodataframe with `gpd.read_parquet('filename')`"
   ]
  },
  {
   "cell_type": "code",
   "execution_count": 13,
   "id": "404f2115-557b-4016-a807-4485643cd255",
   "metadata": {},
   "outputs": [],
   "source": [
    "gdf = gpd.read_parquet('md_eviction_warrants_through_2024.geoparquet')"
   ]
  },
  {
   "cell_type": "code",
   "execution_count": 17,
   "id": "c24e9f62-cecc-4a66-920d-fceabc1d1d27",
   "metadata": {},
   "outputs": [
    {
     "data": {
      "text/html": [
       "<div>\n",
       "<style scoped>\n",
       "    .dataframe tbody tr th:only-of-type {\n",
       "        vertical-align: middle;\n",
       "    }\n",
       "\n",
       "    .dataframe tbody tr th {\n",
       "        vertical-align: top;\n",
       "    }\n",
       "\n",
       "    .dataframe thead th {\n",
       "        text-align: right;\n",
       "    }\n",
       "</style>\n",
       "<table border=\"1\" class=\"dataframe\">\n",
       "  <thead>\n",
       "    <tr style=\"text-align: right;\">\n",
       "      <th></th>\n",
       "      <th>ID</th>\n",
       "      <th>EventDate</th>\n",
       "      <th>EventType</th>\n",
       "      <th>EventComment</th>\n",
       "      <th>County</th>\n",
       "      <th>Location</th>\n",
       "      <th>TenantAddress</th>\n",
       "      <th>TenantCity</th>\n",
       "      <th>TenantState</th>\n",
       "      <th>TenantZipCode</th>\n",
       "      <th>...</th>\n",
       "      <th>input_address</th>\n",
       "      <th>match_status</th>\n",
       "      <th>match_type</th>\n",
       "      <th>match_address</th>\n",
       "      <th>match_lon_lat</th>\n",
       "      <th>match_tiger_line_id</th>\n",
       "      <th>match_tiger_line_side</th>\n",
       "      <th>lon</th>\n",
       "      <th>lat</th>\n",
       "      <th>geometry</th>\n",
       "    </tr>\n",
       "  </thead>\n",
       "  <tbody>\n",
       "    <tr>\n",
       "      <th>0</th>\n",
       "      <td>1.0</td>\n",
       "      <td>1/17/2022</td>\n",
       "      <td>Warrant of Restitution - Return of Service - E...</td>\n",
       "      <td>None</td>\n",
       "      <td>Baltimore City</td>\n",
       "      <td>Baltimore City</td>\n",
       "      <td>10 Light St Apt 1422</td>\n",
       "      <td>Baltimore</td>\n",
       "      <td>MD</td>\n",
       "      <td>21202</td>\n",
       "      <td>...</td>\n",
       "      <td>4843 Aberdeen Avenue, Baltimore, MD, 21206</td>\n",
       "      <td>Match</td>\n",
       "      <td>Exact</td>\n",
       "      <td>4843 ABERDEEN AVE, BALTIMORE, MD, 21206</td>\n",
       "      <td>-76.5500005941,39.320205069206</td>\n",
       "      <td>206456013.0</td>\n",
       "      <td>R</td>\n",
       "      <td>-76.5500005941</td>\n",
       "      <td>39.320205069206</td>\n",
       "      <td>POINT (-76.55 39.32021)</td>\n",
       "    </tr>\n",
       "    <tr>\n",
       "      <th>1</th>\n",
       "      <td>2.0</td>\n",
       "      <td>1/23/2022</td>\n",
       "      <td>Warrant of Restitution - Return of Service - E...</td>\n",
       "      <td>None</td>\n",
       "      <td>Baltimore City</td>\n",
       "      <td>Baltimore City</td>\n",
       "      <td>5543 Force Rd</td>\n",
       "      <td>Baltimore</td>\n",
       "      <td>MD</td>\n",
       "      <td>21206</td>\n",
       "      <td>...</td>\n",
       "      <td>7903 ORION CIRCLE APT C-229, LAUREL, MD, 20724</td>\n",
       "      <td>Match</td>\n",
       "      <td>Non_Exact</td>\n",
       "      <td>7903 ORION CIR, LAUREL, MD, 20724</td>\n",
       "      <td>-76.795057124575,39.107342365173</td>\n",
       "      <td>618593150.0</td>\n",
       "      <td>L</td>\n",
       "      <td>-76.795057124575</td>\n",
       "      <td>39.107342365173</td>\n",
       "      <td>POINT (-76.79506 39.10734)</td>\n",
       "    </tr>\n",
       "    <tr>\n",
       "      <th>2</th>\n",
       "      <td>3.0</td>\n",
       "      <td>8/17/2022</td>\n",
       "      <td>Warrant of Restitution - Return of Service - E...</td>\n",
       "      <td>None</td>\n",
       "      <td>Baltimore City</td>\n",
       "      <td>Baltimore City</td>\n",
       "      <td>2418 Marbourne Ave #3B</td>\n",
       "      <td>Baltimore</td>\n",
       "      <td>MD</td>\n",
       "      <td>21230</td>\n",
       "      <td>...</td>\n",
       "      <td>7903 ORION CIRCLE APT B-411, LAUREL, MD, 20724</td>\n",
       "      <td>Match</td>\n",
       "      <td>Non_Exact</td>\n",
       "      <td>7903 ORION CIR, LAUREL, MD, 20724</td>\n",
       "      <td>-76.795057124575,39.107342365173</td>\n",
       "      <td>618593150.0</td>\n",
       "      <td>L</td>\n",
       "      <td>-76.795057124575</td>\n",
       "      <td>39.107342365173</td>\n",
       "      <td>POINT (-76.79506 39.10734)</td>\n",
       "    </tr>\n",
       "    <tr>\n",
       "      <th>3</th>\n",
       "      <td>4.0</td>\n",
       "      <td>8/19/2022</td>\n",
       "      <td>Warrant of Restitution - Return of Service - E...</td>\n",
       "      <td>None</td>\n",
       "      <td>Baltimore City</td>\n",
       "      <td>Baltimore City</td>\n",
       "      <td>2502 W Patapsco #3D</td>\n",
       "      <td>Baltimore</td>\n",
       "      <td>MD</td>\n",
       "      <td>21230</td>\n",
       "      <td>...</td>\n",
       "      <td>11 SOUTH EUTAW STREET 1411, BALTIMORE, MD, 21201</td>\n",
       "      <td>No_Match</td>\n",
       "      <td>None</td>\n",
       "      <td>None</td>\n",
       "      <td>None</td>\n",
       "      <td>NaN</td>\n",
       "      <td>None</td>\n",
       "      <td>None</td>\n",
       "      <td>None</td>\n",
       "      <td>POINT EMPTY</td>\n",
       "    </tr>\n",
       "    <tr>\n",
       "      <th>4</th>\n",
       "      <td>5.0</td>\n",
       "      <td>9/9/2022</td>\n",
       "      <td>Warrant of Restitution - Return of Service - E...</td>\n",
       "      <td>None</td>\n",
       "      <td>Baltimore City</td>\n",
       "      <td>Baltimore City</td>\n",
       "      <td>611 S Charles St #361</td>\n",
       "      <td>Baltimore</td>\n",
       "      <td>MD</td>\n",
       "      <td>21230</td>\n",
       "      <td>...</td>\n",
       "      <td>7903 ORION CIRCLE APT G-161, LAUREL, MD, 20724</td>\n",
       "      <td>Match</td>\n",
       "      <td>Non_Exact</td>\n",
       "      <td>7903 ORION CIR, LAUREL, MD, 20724</td>\n",
       "      <td>-76.795057124575,39.107342365173</td>\n",
       "      <td>618593150.0</td>\n",
       "      <td>L</td>\n",
       "      <td>-76.795057124575</td>\n",
       "      <td>39.107342365173</td>\n",
       "      <td>POINT (-76.79506 39.10734)</td>\n",
       "    </tr>\n",
       "  </tbody>\n",
       "</table>\n",
       "<p>5 rows × 28 columns</p>\n",
       "</div>"
      ],
      "text/plain": [
       "    ID  EventDate                                          EventType  \\\n",
       "0  1.0  1/17/2022  Warrant of Restitution - Return of Service - E...   \n",
       "1  2.0  1/23/2022  Warrant of Restitution - Return of Service - E...   \n",
       "2  3.0  8/17/2022  Warrant of Restitution - Return of Service - E...   \n",
       "3  4.0  8/19/2022  Warrant of Restitution - Return of Service - E...   \n",
       "4  5.0   9/9/2022  Warrant of Restitution - Return of Service - E...   \n",
       "\n",
       "  EventComment          County        Location           TenantAddress  \\\n",
       "0         None  Baltimore City  Baltimore City    10 Light St Apt 1422   \n",
       "1         None  Baltimore City  Baltimore City           5543 Force Rd   \n",
       "2         None  Baltimore City  Baltimore City  2418 Marbourne Ave #3B   \n",
       "3         None  Baltimore City  Baltimore City     2502 W Patapsco #3D   \n",
       "4         None  Baltimore City  Baltimore City   611 S Charles St #361   \n",
       "\n",
       "  TenantCity TenantState TenantZipCode  ...  \\\n",
       "0  Baltimore          MD         21202  ...   \n",
       "1  Baltimore          MD         21206  ...   \n",
       "2  Baltimore          MD         21230  ...   \n",
       "3  Baltimore          MD         21230  ...   \n",
       "4  Baltimore          MD         21230  ...   \n",
       "\n",
       "                                      input_address match_status match_type  \\\n",
       "0        4843 Aberdeen Avenue, Baltimore, MD, 21206        Match      Exact   \n",
       "1    7903 ORION CIRCLE APT C-229, LAUREL, MD, 20724        Match  Non_Exact   \n",
       "2    7903 ORION CIRCLE APT B-411, LAUREL, MD, 20724        Match  Non_Exact   \n",
       "3  11 SOUTH EUTAW STREET 1411, BALTIMORE, MD, 21201     No_Match       None   \n",
       "4    7903 ORION CIRCLE APT G-161, LAUREL, MD, 20724        Match  Non_Exact   \n",
       "\n",
       "                             match_address                     match_lon_lat  \\\n",
       "0  4843 ABERDEEN AVE, BALTIMORE, MD, 21206    -76.5500005941,39.320205069206   \n",
       "1        7903 ORION CIR, LAUREL, MD, 20724  -76.795057124575,39.107342365173   \n",
       "2        7903 ORION CIR, LAUREL, MD, 20724  -76.795057124575,39.107342365173   \n",
       "3                                     None                              None   \n",
       "4        7903 ORION CIR, LAUREL, MD, 20724  -76.795057124575,39.107342365173   \n",
       "\n",
       "   match_tiger_line_id  match_tiger_line_side               lon  \\\n",
       "0          206456013.0                      R    -76.5500005941   \n",
       "1          618593150.0                      L  -76.795057124575   \n",
       "2          618593150.0                      L  -76.795057124575   \n",
       "3                  NaN                   None              None   \n",
       "4          618593150.0                      L  -76.795057124575   \n",
       "\n",
       "               lat                    geometry  \n",
       "0  39.320205069206     POINT (-76.55 39.32021)  \n",
       "1  39.107342365173  POINT (-76.79506 39.10734)  \n",
       "2  39.107342365173  POINT (-76.79506 39.10734)  \n",
       "3             None                 POINT EMPTY  \n",
       "4  39.107342365173  POINT (-76.79506 39.10734)  \n",
       "\n",
       "[5 rows x 28 columns]"
      ]
     },
     "execution_count": 17,
     "metadata": {},
     "output_type": "execute_result"
    }
   ],
   "source": [
    "gdf.columns.tolist()\n",
    "gdf.head()"
   ]
  },
  {
   "cell_type": "code",
   "execution_count": 88,
   "id": "6bbe5880-4138-4ea5-b7ec-4932f6c03d09",
   "metadata": {},
   "outputs": [
    {
     "data": {
      "image/png": "[encoded data removed]",
      "text/plain": [
       "<Figure size 640x480 with 1 Axes>"
      ]
     },
     "metadata": {},
     "output_type": "display_data"
    }
   ],
   "source": [
    "#Full code:\n",
    "\n",
    "#1: clean eviction data to only include md & pg counties where eviction status is warrant_evicted\n",
    "eviction_tidy = gdf[gdf['County'].isin(['Montgomery', 'Prince George\\'s']) & gdf['EventType'].isin(['Warrant of Restitution - Return of Service - Evicted', 'warrant_evicted'])]\n",
    "eviction_tidy.head()\n",
    "\n",
    "#2: combine geojsons for moco & pg counties\n",
    "#load geojsons\n",
    "moco_gdf = gpd.read_file('acs2023_5yr_B18101_14000US24031703902.geojson')\n",
    "pg_gdf = gpd.read_file('acs2023_5yr_B18101_14000US24033805000.geojson')\n",
    "\n",
    "#check crs\n",
    "if moco_gdf.crs != pg_gdf.crs:\n",
    "    pg_gdf = pg_gdf.to_crs(moco_gdf.crs)\n",
    "    \n",
    "#combine geojsosn\n",
    "combined_gdf = pd.concat([moco_gdf, pg_gdf], ignore_index=True)\n",
    "\n",
    "#3: clean geojson to create count of total with disability in census tract\n",
    "#remove error columns\n",
    "combined_gdf = combined_gdf.loc[:, ~combined_gdf.columns.str.contains('Error', case=False)]\n",
    "\n",
    "#add all disabled count columns \n",
    "columns_to_sum = ['B18101004', 'B18101007', 'B18101010', 'B18101013', 'B18101016', \n",
    "                  'B18101019', 'B18101023', 'B18101026', 'B18101029', 'B18101032', \n",
    "                  'B18101035', 'B18101038']\n",
    "combined_gdf['total count, disabled'] = combined_gdf[columns_to_sum].sum(axis=1)\n",
    "\n",
    "#4: spatial join eviction geodataframe to cleaned disability geojson\n",
    "#confirm crs as UTM18N\n",
    "utm18n = 32618\n",
    "combined_gdf = combined_gdf.to_crs(epsg=utm18n)\n",
    "eviction_tidy = eviction_tidy.to_crs(epsg=utm18n)\n",
    "assert combined_gdf.crs == eviction_tidy.crs\n",
    "\n",
    "#spatially join evictions with tracts\n",
    "tracts_with_evictions_gdf = gpd.sjoin(combined_gdf, eviction_tidy, how='left')\n",
    "tracts_with_evictions_gdf.head()\n",
    "\n",
    "# Count unique evictions in each tract\n",
    "eviction_counts = tracts_with_evictions_gdf.groupby('geoid').index_right.nunique()\n",
    "eviction_counts\n",
    "\n",
    "# Join counts onto tracts\n",
    "tracts_with_counts_gdf = combined_gdf.merge(eviction_counts, left_on='geoid', right_index=True)\n",
    "\n",
    "#clean-up columns\n",
    "columns = {\n",
    "    'geoid':'geoid',\n",
    "    'total count, disabled':'total count, disabled',\n",
    "    'index_right':'evictions',\n",
    "    'geometry':'geometry'\n",
    "}\n",
    "tracts_with_counts_gdf = tracts_with_counts_gdf[columns.keys()].rename(columns=columns)\n",
    "tracts_with_counts_gdf.head()\n",
    "tracts_with_counts_sorted = tracts_with_counts_gdf.sort_values(by='evictions', ascending = False)\n",
    "tracts_with_counts_sorted.head(50)\n",
    "\n",
    "#5 actual: create scatterplot comparing disabled counts with eviction counts\n",
    "\n",
    "#create scatter plot\n",
    "plt.scatter(tracts_with_counts_gdf['total count, disabled'], tracts_with_counts_gdf['evictions'])\n",
    "\n",
    "#set axis limits\n",
    "plt.xlim(0, 1000)\n",
    "plt.ylim(0, 35)\n",
    "\n",
    "#labels and title\n",
    "plt.xlabel('Total Count, Disabled')\n",
    "plt.ylabel('Evictions')\n",
    "plt.title('Scatterplot of Total Count vs Evictions')\n",
    "\n",
    "#show\n",
    "plt.show()\n",
    "\n",
    "\n",
    "#5: map new dataframe as bivariate cloropleth map, with one variable being # of evictions and the other # of people with disability\n",
    "\n",
    "#handle zeros separately by replacing zeros with NaN temporarily\n",
    "#tracts_with_counts_gdf['disabled_nonzero'] = tracts_with_counts_gdf['total count, disabled'].replace(0, np.nan)\n",
    "#tracts_with_counts_gdf['evictions_nonzero'] = tracts_with_counts_gdf['evictions'].replace(0, np.nan)\n",
    "\n",
    "#normalize into 'low', 'medium', 'high' groups\n",
    "#tracts_with_counts_gdf['disabled_quartile'] = pd.cut(tracts_with_counts_gdf['disabled_nonzero'].dropna(), 3, labels=[\"low\", \"medium\", \"high\"], duplicates='drop')\n",
    "#tracts_with_counts_gdf['eviction_quartile'] = pd.cut(tracts_with_counts_gdf['evictions_nonzero'].dropna(), 3, labels=[\"low\", \"medium\", \"high\"], duplicates='drop')\n",
    "\n",
    "#fill NaN values (zeros) with the category \"low\"\n",
    "#tracts_with_counts_gdf['disabled_quartile'] = tracts_with_counts_gdf['disabled_quartile'].fillna('low')\n",
    "#tracts_with_counts_gdf['eviction_quartile'] = tracts_with_counts_gdf['eviction_quartile'].fillna('low')\n",
    "\n",
    "#create bivariate classification column\n",
    "#tracts_with_counts_gdf['bivariate_class'] = list(zip(tracts_with_counts_gdf['disabled_quartile'], tracts_with_counts_gdf['eviction_quartile']))\n",
    "\n",
    "#define colors\n",
    "#color_map = {\n",
    "    #(\"low\", \"low\"): \"#f7f7f7\",        # Light gray for zero (low)\n",
    "    #(\"low\", \"medium\"): \"#ece7f2\",     # Light purple for low-medium\n",
    "    #(\"low\", \"high\"): \"#d0d1e6\",       # Light blue for low-high\n",
    "    #(\"medium\", \"low\"): \"#67a9cf\",     # Light blue for medium-low\n",
    "    #(\"medium\", \"medium\"): \"#3690c0\",  # Blue for medium-medium\n",
    "    #(\"medium\", \"high\"): \"#02818a\",    # Darker blue for medium-high\n",
    "    #(\"high\", \"low\"): \"#016c6d\",       # Dark teal for high-low\n",
    "    #(\"high\", \"medium\"): \"#003c30\",    # Dark teal for high-medium\n",
    "    #(\"high\", \"high\"): \"#003c30\"       # Darkest teal for high-high\n",
    "#}\n",
    "#map the 'bivariate_class' to colors\n",
    "#tracts_with_counts_gdf['color'] = tracts_with_counts_gdf['bivariate_class'].map(color_map)\n",
    "\n",
    "#create the folium map\n",
    "#m = folium.Map(location=[tracts_with_counts_gdf.geometry.centroid.y.mean(), tracts_with_counts_gdf.geometry.centroid.x.mean()], zoom_start=9)\n",
    "\n",
    "# Create a function to get the correct color for each feature based on its 'color' column\n",
    "#def get_fill_color(feature):\n",
    "    #geoid = feature['properties']['geoid']  # Replace with the actual key for your identifier\n",
    "    #color = tracts_with_counts_gdf.loc[tracts_with_counts_gdf['geoid'] == geoid, 'color'].values[0]\n",
    "    #return color\n",
    "\n",
    "# Add the choropleth to the map using the get_fill_color function\n",
    "#folium.GeoJson(\n",
    "    #tracts_with_counts_gdf,\n",
    "    #name=\"choropleth\",\n",
    "    #style_function=lambda feature: {\n",
    "        #'fillColor': get_fill_color(feature),\n",
    "        #'fillOpacity': 0.7,\n",
    "        #'weight': 0.2,\n",
    "        #'color': 'black'\n",
    "    #}\n",
    "#).add_to(m)\n",
    "\n",
    "\n",
    "#save the map to an HTML file\n",
    "#m.save(\"bivariate_choropleth_map.html\")\n",
    "\n",
    "#print map\n",
    "#m"
   ]
  },
  {
   "cell_type": "code",
   "execution_count": null,
   "id": "d091fdbb-7780-45cf-81d3-d75cd441bfc2",
   "metadata": {},
   "outputs": [],
   "source": [
    "#1: clean eviction data to only include md & pg counties where eviction status is warrant_evicted\n"
   ]
  }
 ],
 "metadata": {
  "kernelspec": {
   "display_name": "Python 3 (ipykernel)",
   "language": "python",
   "name": "python3"
  },
  "language_info": {
   "codemirror_mode": {
    "name": "ipython",
    "version": 3
   },
   "file_extension": ".py",
   "mimetype": "text/x-python",
   "name": "python",
   "nbconvert_exporter": "python",
   "pygments_lexer": "ipython3",
   "version": "3.12.2"
  }
 },
 "nbformat": 4,
 "nbformat_minor": 5
}
