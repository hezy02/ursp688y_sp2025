{
 "cells": [
  {
   "cell_type": "code",
   "execution_count": 1,
   "id": "89f5436f-442d-4563-99f5-7dd7c46860a5",
   "metadata": {},
   "outputs": [],
   "source": [
    "import random"
   ]
  },
  {
   "cell_type": "code",
   "execution_count": 2,
   "id": "1b6c222c-2f1e-4ea5-9cd9-26e9b5535b1d",
   "metadata": {},
   "outputs": [],
   "source": [
    "def chunks(_list, chunk_length=2, seed=False):\n",
    "    \"\"\"Return randomized chunks of the input list with a specified minimum length.\n",
    "    Adapted from https://stackoverflow.com/questions/24483182/python-split-list-into-n-chunks\n",
    "    \"\"\"\n",
    "    if seed:\n",
    "        random.seed(seed)\n",
    "    # Ensure list elements are randomized\n",
    "    random.shuffle(students)\n",
    "    # Determine the number of chunks necessary given the specified chunk length\n",
    "    n_chunks = len(_list) // chunk_length\n",
    "    # Break the list into chunks and store them in another list\n",
    "    chunks = []\n",
    "    for i in range(0, n_chunks):\n",
    "        chunks.append(_list[i::n_chunks])\n",
    "    return chunks"
   ]
  },
  {
   "cell_type": "code",
   "execution_count": 6,
   "id": "e66161de-713d-42f2-8d8a-332d26c92bff",
   "metadata": {},
   "outputs": [
    {
     "data": {
      "text/plain": [
       "[['Alex', 'Cole'], ['Nancy', 'Pablo'], ['Sam', 'Michael'], ['David', 'Huan']]"
      ]
     },
     "execution_count": 6,
     "metadata": {},
     "output_type": "execute_result"
    }
   ],
   "source": [
    "students = [\n",
    "    'Alex',\n",
    "    'Cole',\n",
    "    'David',\n",
    "    'Huan',\n",
    "    'Michael',\n",
    "    'Nancy',\n",
    "    'Pablo',\n",
    "    'Sam',\n",
    "]\n",
    "\n",
    "chunks(students, chunk_length=2, seed=3)"
   ]
  },
  {
   "cell_type": "code",
   "execution_count": null,
   "id": "5563800a-033f-4bb9-b8d7-4971588fad30",
   "metadata": {},
   "outputs": [],
   "source": []
  },
  {
   "cell_type": "code",
   "execution_count": null,
   "id": "3bc73950-ac2c-46d3-902b-46162525f843",
   "metadata": {},
   "outputs": [],
   "source": []
  }
 ],
 "metadata": {
  "kernelspec": {
   "display_name": "Python 3 (ipykernel)",
   "language": "python",
   "name": "python3"
  },
  "language_info": {
   "codemirror_mode": {
    "name": "ipython",
    "version": 3
   },
   "file_extension": ".py",
   "mimetype": "text/x-python",
   "name": "python",
   "nbconvert_exporter": "python",
   "pygments_lexer": "ipython3",
   "version": "3.13.1"
  }
 },
 "nbformat": 4,
 "nbformat_minor": 5
}
